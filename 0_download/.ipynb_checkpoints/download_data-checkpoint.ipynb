{
 "cells": [
  {
   "cell_type": "markdown",
   "metadata": {},
   "source": [
    "# Download public logs\n",
    "Natalia Vélez, November 2019"
   ]
  },
  {
   "cell_type": "code",
   "execution_count": 1,
   "metadata": {},
   "outputs": [],
   "source": [
    "from bs4 import BeautifulSoup\n",
    "import os, requests"
   ]
  },
  {
   "cell_type": "markdown",
   "metadata": {},
   "source": [
    "Location of One Life logs:"
   ]
  },
  {
   "cell_type": "code",
   "execution_count": 15,
   "metadata": {},
   "outputs": [],
   "source": [
    "ohol_url = 'http://publicdata.onehouronelife.com/'\n",
    "exclude_keywords = ['..', 'foodLog', 'curseLog'] # Directories not to download"
   ]
  },
  {
   "cell_type": "markdown",
   "metadata": {},
   "source": [
    "Make local dir to store data:"
   ]
  },
  {
   "cell_type": "code",
   "execution_count": 3,
   "metadata": {},
   "outputs": [],
   "source": [
    "data_dir = '../data/'\n",
    "os.makedirs(data_dir, exist_ok=True)"
   ]
  },
  {
   "cell_type": "markdown",
   "metadata": {},
   "source": [
    "Helper function: Search through address recursively"
   ]
  },
  {
   "cell_type": "code",
   "execution_count": 17,
   "metadata": {},
   "outputs": [],
   "source": [
    "def get_url_paths(url, params={}):\n",
    "    response = requests.get(url, params=params)\n",
    "    if response.ok:\n",
    "        response_text = response.text\n",
    "    else:\n",
    "        return response.raise_for_status()\n",
    "    soup = BeautifulSoup(response_text, 'html.parser')\n",
    "    \n",
    "    paths = []\n",
    "    for node in soup.find_all('a'):\n",
    "        node_href = node.get('href')        \n",
    "        # Conditions for recursive search\n",
    "        node_isdir = node_href.endswith('/')\n",
    "        node_keep = not any(kwd in node_href for kwd in exclude_keywords)\n",
    "        \n",
    "        if ((node_isdir) & (node_keep)):\n",
    "            print('crawl —> %s' % node_href)\n",
    "            paths += get_url_paths(url + node_href)\n",
    "            \n",
    "        elif not node_isdir:\n",
    "            paths.append(url + node.get('href'))\n",
    "            \n",
    "    return paths"
   ]
  },
  {
   "cell_type": "markdown",
   "metadata": {},
   "source": [
    "Find OHOL files:"
   ]
  },
  {
   "cell_type": "code",
   "execution_count": 18,
   "metadata": {},
   "outputs": [
    {
     "name": "stdout",
     "output_type": "stream",
     "text": [
      "crawl —> publicLifeLogData/\n",
      "crawl —> lifeLog/\n",
      "crawl —> lifeLog_bigserver1.onehouronelife.com/\n",
      "crawl —> lifeLog_bigserver2.onehouronelife.com/\n",
      "crawl —> lifeLog_server1.onehouronelife.com/\n",
      "crawl —> lifeLog_server10.onehouronelife.com/\n",
      "crawl —> lifeLog_server11.onehouronelife.com/\n",
      "crawl —> lifeLog_server12.onehouronelife.com/\n",
      "crawl —> lifeLog_server13.onehouronelife.com/\n",
      "crawl —> lifeLog_server14.onehouronelife.com/\n",
      "crawl —> lifeLog_server15.onehouronelife.com/\n",
      "crawl —> lifeLog_server2.onehouronelife.com/\n",
      "crawl —> lifeLog_server3.onehouronelife.com/\n",
      "crawl —> lifeLog_server4.onehouronelife.com/\n",
      "crawl —> lifeLog_server5.onehouronelife.com/\n",
      "crawl —> lifeLog_server6.onehouronelife.com/\n",
      "crawl —> lifeLog_server7.onehouronelife.com/\n",
      "crawl —> lifeLog_server8.onehouronelife.com/\n",
      "crawl —> lifeLog_server9.onehouronelife.com/\n",
      "crawl —> publicMapChangeData/\n",
      "crawl —> bigserver2.onehouronelife.com/\n",
      "17241 files found\n"
     ]
    }
   ],
   "source": [
    "ohol_paths = get_url_paths(ohol_url)\n",
    "print('%i files found' % len(ohol_paths))"
   ]
  },
  {
   "cell_type": "markdown",
   "metadata": {},
   "source": [
    "Compute total size of public data:"
   ]
  },
  {
   "cell_type": "code",
   "execution_count": null,
   "metadata": {},
   "outputs": [],
   "source": [
    "size_in_bytes = 0\n",
    "\n",
    "for path in ohol_paths:\n",
    "    path_open = urllib.request.urlopen(path)\n",
    "    path_meta = path_open.info()\n",
    "    \n",
    "    path_size = int(path_meta['Content-Length'])\n",
    "    size_in_bytes += path_size"
   ]
  },
  {
   "cell_type": "markdown",
   "metadata": {},
   "source": [
    "Download files:"
   ]
  },
  {
   "cell_type": "code",
   "execution_count": 34,
   "metadata": {},
   "outputs": [
    {
     "name": "stdout",
     "output_type": "stream",
     "text": [
      "Server: nginx/1.14.0 (Ubuntu)\n",
      "Date: Tue, 12 Nov 2019 05:09:55 GMT\n",
      "Content-Type: text/html\n",
      "Transfer-Encoding: chunked\n",
      "Connection: close\n",
      "\n",
      "\n"
     ]
    }
   ],
   "source": [
    "import urllib\n",
    "ohol_site = urllib.request.urlopen(ohol_url)\n",
    "ohol_meta = ohol_site.info()\n",
    "print(ohol_meta)"
   ]
  },
  {
   "cell_type": "code",
   "execution_count": 49,
   "metadata": {},
   "outputs": [
    {
     "data": {
      "text/plain": [
       "118050"
      ]
     },
     "execution_count": 49,
     "metadata": {},
     "output_type": "execute_result"
    }
   ],
   "source": []
  },
  {
   "cell_type": "code",
   "execution_count": 44,
   "metadata": {},
   "outputs": [
    {
     "name": "stdout",
     "output_type": "stream",
     "text": [
      "Server: nginx/1.14.0 (Ubuntu)\n",
      "Date: Tue, 12 Nov 2019 05:11:54 GMT\n",
      "Content-Type: text/plain\n",
      "Content-Length: 118050\n",
      "Last-Modified: Sun, 27 Jan 2019 08:30:02 GMT\n",
      "Connection: close\n",
      "ETag: \"5c4d6c0a-1cd22\"\n",
      "Accept-Ranges: bytes\n",
      "\n",
      "\n"
     ]
    }
   ],
   "source": [
    "\n",
    "site = urllib.request.urlopen(ohol_paths[0])\n",
    "meta = site.info()\n",
    "print(meta)"
   ]
  },
  {
   "cell_type": "code",
   "execution_count": null,
   "metadata": {},
   "outputs": [],
   "source": []
  }
 ],
 "metadata": {
  "kernelspec": {
   "display_name": "Python 3",
   "language": "python",
   "name": "python3"
  },
  "language_info": {
   "codemirror_mode": {
    "name": "ipython",
    "version": 3
   },
   "file_extension": ".py",
   "mimetype": "text/x-python",
   "name": "python",
   "nbconvert_exporter": "python",
   "pygments_lexer": "ipython3",
   "version": "3.6.8"
  }
 },
 "nbformat": 4,
 "nbformat_minor": 2
}
