{
 "cells": [
  {
   "cell_type": "markdown",
   "metadata": {},
   "source": [
    "# Division of cognitive labor\n",
    "Natalia Vélez, March 2020\n",
    "\n",
    "Adapted from:\n",
    "Kitcher, P. (1990). The division of cognitive labor. The journal of philosophy, 87(1), 5-22.\n",
    "\n",
    "Kitcher (1990) poses the question:  What is the optimal division of labor within a scientific field, and how do epistemic or non-epistemic (e.g., prestige) interests lead us closer or farther from it? Is it possible that there is a mismatch between what is good for the individual and what is good for the field? (For example, if everyone pursued the theories that had the broadest support, the scientific community as a whole would suffer for not having hedged its bets.) \n",
    "\n",
    "The paper presents a loose model, verbally describes contexts where these mismatches occur, and proposes some non-epistemic mechanisms that may help align individual and community goals. (For example: In science, a desire for fame/prestige drives scientists to diversify the problems they work on.)\n",
    "\n",
    "I thought it might be interesting to examine similar mismatches within our dataset; for example, individuals benefit from eating a wide variety of foods prepared by the village, but the village as a whole would suffer. As a starting point, I attempt to implement the model described in the paper."
   ]
  },
  {
   "cell_type": "code",
   "execution_count": 1,
   "metadata": {},
   "outputs": [],
   "source": [
    "%matplotlib inline\n",
    "\n",
    "import numpy as np\n",
    "import pandas as pd\n",
    "import matplotlib.pyplot as plt\n",
    "import seaborn as sns"
   ]
  },
  {
   "cell_type": "markdown",
   "metadata": {},
   "source": [
    "**Formulation of the problem**\n",
    "\n",
    "> \"Once there was a very important molecule (VIM). Many people in the chemical community wanted to know the structure of VIM. Two methods for fathoming the structure were available. Method I involved using X-ray crystallography, inspecting the resultant photographs and using them to eliminate possibilities about bonding patterns. Method II involved guesswork and the building of tinker-toy models. Everybody agreed that the chances that an individual would discover the structure of VIM by using method I were greater than the chances that that individual would discover the structure by using method II. Since all members of the community were thoroughly rational, each chemist used method I. They are still working on the problem.\"\n",
    "\n",
    "Each method has some asymptotic probability of finding the truth ($p_i$) and a _return_ function ($f_i(n)$) that describes the probability  of finding the solution after assigning $n$ workers to the problem.\n",
    "\n",
    "For simplicity, we assume that _both_ methods cannot work ($p_1 + p_2 < 1$) and that one method is intrinsically more promising than the other ($p_1$ > $p_2$).\n",
    "\n",
    "$f_i(\\cdot)$ could take many forms, and each method may have a different return function. To simplify, we use the logistic growth equations described in the paper:\n",
    "\n",
    "$$\n",
    "p_i(n) =\n",
    "\\begin{cases}\n",
    "    p_{0,i}(3n^2-2n^3/kN)/k^2N^2& \\text{if } n < kN\\\\\n",
    "    p_{0,i}              & \\text{otherwise}\n",
    "\\end{cases}\n",
    "$$"
   ]
  },
  {
   "cell_type": "code",
   "execution_count": 15,
   "metadata": {},
   "outputs": [],
   "source": [
    "def return_fun(n, k, N, p_0):\n",
    "    if n >= k*N:\n",
    "        p = p_0\n",
    "    else:\n",
    "        p = p_0*(3*n**2 - 2*n**3/k*N)/(k**2*N**2)\n",
    "        \n",
    "    return p\n",
    "    \n",
    "def community_distribution(n1, n2, k):\n",
    "    N = n1+n2\n",
    "    r1 =  return_fun(n1, k, N, P0[0])\n",
    "    r2 =  return_fun(n1, k, N, P0[1])\n",
    "    return r1 + r2"
   ]
  },
  {
   "cell_type": "code",
   "execution_count": 18,
   "metadata": {},
   "outputs": [],
   "source": [
    "?growth_df.apply"
   ]
  },
  {
   "cell_type": "code",
   "execution_count": 25,
   "metadata": {},
   "outputs": [
    {
     "data": {
      "text/html": [
       "<div>\n",
       "<style scoped>\n",
       "    .dataframe tbody tr th:only-of-type {\n",
       "        vertical-align: middle;\n",
       "    }\n",
       "\n",
       "    .dataframe tbody tr th {\n",
       "        vertical-align: top;\n",
       "    }\n",
       "\n",
       "    .dataframe thead th {\n",
       "        text-align: right;\n",
       "    }\n",
       "</style>\n",
       "<table border=\"1\" class=\"dataframe\">\n",
       "  <thead>\n",
       "    <tr style=\"text-align: right;\">\n",
       "      <th></th>\n",
       "      <th>n1</th>\n",
       "      <th>n2</th>\n",
       "      <th>k</th>\n",
       "      <th>CO</th>\n",
       "      <th>regime</th>\n",
       "    </tr>\n",
       "  </thead>\n",
       "  <tbody>\n",
       "    <tr>\n",
       "      <th>0</th>\n",
       "      <td>0</td>\n",
       "      <td>100</td>\n",
       "      <td>0.5</td>\n",
       "      <td>0.0</td>\n",
       "      <td>n &lt; kN</td>\n",
       "    </tr>\n",
       "    <tr>\n",
       "      <th>1</th>\n",
       "      <td>0</td>\n",
       "      <td>100</td>\n",
       "      <td>0.6</td>\n",
       "      <td>0.0</td>\n",
       "      <td>n &lt; kN</td>\n",
       "    </tr>\n",
       "    <tr>\n",
       "      <th>2</th>\n",
       "      <td>0</td>\n",
       "      <td>100</td>\n",
       "      <td>0.7</td>\n",
       "      <td>0.0</td>\n",
       "      <td>n &lt; kN</td>\n",
       "    </tr>\n",
       "    <tr>\n",
       "      <th>3</th>\n",
       "      <td>0</td>\n",
       "      <td>100</td>\n",
       "      <td>0.8</td>\n",
       "      <td>0.0</td>\n",
       "      <td>n &lt; kN</td>\n",
       "    </tr>\n",
       "    <tr>\n",
       "      <th>4</th>\n",
       "      <td>0</td>\n",
       "      <td>100</td>\n",
       "      <td>0.9</td>\n",
       "      <td>0.0</td>\n",
       "      <td>n &lt; kN</td>\n",
       "    </tr>\n",
       "  </tbody>\n",
       "</table>\n",
       "</div>"
      ],
      "text/plain": [
       "   n1   n2    k   CO  regime\n",
       "0   0  100  0.5  0.0  n < kN\n",
       "1   0  100  0.6  0.0  n < kN\n",
       "2   0  100  0.7  0.0  n < kN\n",
       "3   0  100  0.8  0.0  n < kN\n",
       "4   0  100  0.9  0.0  n < kN"
      ]
     },
     "execution_count": 25,
     "metadata": {},
     "output_type": "execute_result"
    }
   ],
   "source": [
    "N = 100\n",
    "k = np.linspace(.5, 1.5, 11)\n",
    "P0 = [0.6, 0.3]\n",
    "n = np.arange(0, N+1)\n",
    "\n",
    "growth_list = [(ni, N-ni, ki) for ni in n for ki in k]\n",
    "growth_df = pd.DataFrame(growth_list, columns = ['n1', 'n2', 'k'])\n",
    "growth_df['CO'] = np.vectorize(community_distribution)(growth_df['n1'], growth_df['n2'], growth_df['k'])\n",
    "growth_df['regime'] = np.where(growth_df['n1'] < growth_df['k']*100, 'n < kN', 'n $\\geq$ kN')\n",
    "growth_df.head()"
   ]
  },
  {
   "cell_type": "code",
   "execution_count": 28,
   "metadata": {},
   "outputs": [
    {
     "data": {
      "text/plain": [
       "<seaborn.axisgrid.FacetGrid at 0x1a14326da0>"
      ]
     },
     "execution_count": 28,
     "metadata": {},
     "output_type": "execute_result"
    },
    {
     "data": {
      "image/png": "[encoded data removed]",
      "text/plain": [
       "<Figure size 432x216 with 2 Axes>"
      ]
     },
     "metadata": {},
     "output_type": "display_data"
    }
   ],
   "source": [
    "g = sns.FacetGrid(data=growth_df, col='regime')\n",
    "g.map(sns.lineplot, data=growth_df, x='n1', y ='CO')"
   ]
  },
  {
   "cell_type": "markdown",
   "metadata": {},
   "source": [
    "^ This is not at all right; come back to this"
   ]
  },
  {
   "cell_type": "code",
   "execution_count": null,
   "metadata": {},
   "outputs": [],
   "source": []
  }
 ],
 "metadata": {
  "kernelspec": {
   "display_name": "Python 3",
   "language": "python",
   "name": "python3"
  },
  "language_info": {
   "codemirror_mode": {
    "name": "ipython",
    "version": 3
   },
   "file_extension": ".py",
   "mimetype": "text/x-python",
   "name": "python",
   "nbconvert_exporter": "python",
   "pygments_lexer": "ipython3",
   "version": "3.6.8"
  }
 },
 "nbformat": 4,
 "nbformat_minor": 2
}
