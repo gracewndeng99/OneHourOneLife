{
 "cells": [
  {
   "cell_type": "markdown",
   "metadata": {},
   "source": [
    "# Family trees\n",
    "Natalia Vélez, December 2019--January 2020"
   ]
  },
  {
   "cell_type": "code",
   "execution_count": 14,
   "metadata": {},
   "outputs": [],
   "source": [
    "%matplotlib inline\n",
    "\n",
    "import os, re, glob, random\n",
    "import pandas as pd\n",
    "import numpy as np\n",
    "import matplotlib.pyplot as plt\n",
    "import seaborn as sns\n",
    "from os.path import join as opj\n",
    "\n",
    "sns.set_context('paper')\n",
    "\n",
    "# Set seed\n",
    "random.seed(358)"
   ]
  },
  {
   "cell_type": "markdown",
   "metadata": {},
   "source": [
    "Helper functions:"
   ]
  },
  {
   "cell_type": "code",
   "execution_count": 4,
   "metadata": {},
   "outputs": [],
   "source": [
    "gsearch = lambda *args: glob.glob(opj(*args))"
   ]
  },
  {
   "cell_type": "markdown",
   "metadata": {},
   "source": [
    "Find data files:"
   ]
  },
  {
   "cell_type": "code",
   "execution_count": 13,
   "metadata": {},
   "outputs": [
    {
     "name": "stdout",
     "output_type": "stream",
     "text": [
      "9046 files found\n",
      "../data/publicLifeLogData/lifeLog_server14.onehouronelife.com/2019_01January_17_Thursday.txt\n",
      "../data/publicLifeLogData/lifeLog_server14.onehouronelife.com/2018_08August_04_Saturday.txt\n",
      "../data/publicLifeLogData/lifeLog_server14.onehouronelife.com/2018_09September_18_Tuesday.txt\n",
      "../data/publicLifeLogData/lifeLog_server14.onehouronelife.com/2019_03March_18_Monday.txt\n",
      "../data/publicLifeLogData/lifeLog_server14.onehouronelife.com/2018_04April_05_Thursday.txt\n",
      "../data/publicLifeLogData/lifeLog_server14.onehouronelife.com/2018_05May_20_Sunday.txt\n",
      "../data/publicLifeLogData/lifeLog_server14.onehouronelife.com/2018_05May_09_Wednesday.txt\n",
      "../data/publicLifeLogData/lifeLog_server14.onehouronelife.com/2019_08August_29_Thursday.txt\n",
      "../data/publicLifeLogData/lifeLog_server14.onehouronelife.com/2019_01January_10_Thursday.txt\n",
      "../data/publicLifeLogData/lifeLog_server14.onehouronelife.com/2018_05May_03_Thursday.txt\n"
     ]
    }
   ],
   "source": [
    "data_dir = '../data/'\n",
    "data_files = gsearch(data_dir, 'publicLifeLogData', '**', '*y.txt')\n",
    "print('%i files found' % len(data_files))\n",
    "print(*data_files[:10], sep='\\n')"
   ]
  },
  {
   "cell_type": "markdown",
   "metadata": {},
   "source": [
    "## A close look at one month"
   ]
  },
  {
   "cell_type": "code",
   "execution_count": null,
   "metadata": {},
   "outputs": [],
   "source": []
  }
 ],
 "metadata": {
  "kernelspec": {
   "display_name": "Python 3",
   "language": "python",
   "name": "python3"
  },
  "language_info": {
   "codemirror_mode": {
    "name": "ipython",
    "version": 3
   },
   "file_extension": ".py",
   "mimetype": "text/x-python",
   "name": "python",
   "nbconvert_exporter": "python",
   "pygments_lexer": "ipython3",
   "version": "3.6.8"
  }
 },
 "nbformat": 4,
 "nbformat_minor": 2
}
