{
 "cells": [
  {
   "cell_type": "markdown",
   "metadata": {},
   "source": [
    "# Census (July 2019–January 2020)\n",
    "Natalia Vélez, January 2020\n",
    "\n",
    "In this notebook:\n",
    "* How much activity was there in each server? in each release?\n",
    "* Aggregate measures: Age and cause of death\n",
    "* How stable are these aggregate measures over different releases?"
   ]
  },
  {
   "cell_type": "code",
   "execution_count": 1,
   "metadata": {},
   "outputs": [],
   "source": [
    "%matplotlib inline\n",
    "\n",
    "import pandas as pd\n",
    "import numpy as np\n",
    "import matplotlib.pyplot as plt\n",
    "import seaborn as sns\n",
    "from scipy import stats\n",
    "from statsmodels.distributions.empirical_distribution import ECDF"
   ]
  },
  {
   "cell_type": "markdown",
   "metadata": {},
   "source": [
    "## Prepare data for analysis"
   ]
  },
  {
   "cell_type": "markdown",
   "metadata": {},
   "source": [
    "Load all data:"
   ]
  },
  {
   "cell_type": "code",
   "execution_count": 2,
   "metadata": {},
   "outputs": [
    {
     "data": {
      "text/html": [
       "<div>\n",
       "<style scoped>\n",
       "    .dataframe tbody tr th:only-of-type {\n",
       "        vertical-align: middle;\n",
       "    }\n",
       "\n",
       "    .dataframe tbody tr th {\n",
       "        vertical-align: top;\n",
       "    }\n",
       "\n",
       "    .dataframe thead th {\n",
       "        text-align: right;\n",
       "    }\n",
       "</style>\n",
       "<table border=\"1\" class=\"dataframe\">\n",
       "  <thead>\n",
       "    <tr style=\"text-align: right;\">\n",
       "      <th></th>\n",
       "      <th>Unnamed: 0</th>\n",
       "      <th>release</th>\n",
       "      <th>server</th>\n",
       "      <th>event</th>\n",
       "      <th>timestamp</th>\n",
       "      <th>playerID</th>\n",
       "      <th>hash</th>\n",
       "      <th>uniqueID</th>\n",
       "      <th>age</th>\n",
       "      <th>sex</th>\n",
       "      <th>location</th>\n",
       "      <th>parent</th>\n",
       "      <th>cause_of_death</th>\n",
       "      <th>killer</th>\n",
       "      <th>pop</th>\n",
       "      <th>chain</th>\n",
       "    </tr>\n",
       "  </thead>\n",
       "  <tbody>\n",
       "    <tr>\n",
       "      <th>0</th>\n",
       "      <td>0</td>\n",
       "      <td>251</td>\n",
       "      <td>bigserver2</td>\n",
       "      <td>D</td>\n",
       "      <td>1564444828</td>\n",
       "      <td>1842380</td>\n",
       "      <td>583a6de73718f5dd0ddf388f4e68dc060b15e6df</td>\n",
       "      <td>1842380_bigserver2_251</td>\n",
       "      <td>1.81</td>\n",
       "      <td>F</td>\n",
       "      <td>(48, 94)</td>\n",
       "      <td>NaN</td>\n",
       "      <td>hunger</td>\n",
       "      <td>NaN</td>\n",
       "      <td>82</td>\n",
       "      <td>NaN</td>\n",
       "    </tr>\n",
       "    <tr>\n",
       "      <th>1</th>\n",
       "      <td>1</td>\n",
       "      <td>251</td>\n",
       "      <td>bigserver2</td>\n",
       "      <td>D</td>\n",
       "      <td>1564444830</td>\n",
       "      <td>1842301</td>\n",
       "      <td>520ddb069aa77dcb202dd0310a8852e8fddc58dd</td>\n",
       "      <td>1842301_bigserver2_251</td>\n",
       "      <td>8.00</td>\n",
       "      <td>M</td>\n",
       "      <td>(40, 350)</td>\n",
       "      <td>NaN</td>\n",
       "      <td>hunger</td>\n",
       "      <td>NaN</td>\n",
       "      <td>82</td>\n",
       "      <td>NaN</td>\n",
       "    </tr>\n",
       "    <tr>\n",
       "      <th>2</th>\n",
       "      <td>2</td>\n",
       "      <td>251</td>\n",
       "      <td>bigserver2</td>\n",
       "      <td>B</td>\n",
       "      <td>1564444832</td>\n",
       "      <td>1842398</td>\n",
       "      <td>583a6de73718f5dd0ddf388f4e68dc060b15e6df</td>\n",
       "      <td>1842398_bigserver2_251</td>\n",
       "      <td>NaN</td>\n",
       "      <td>F</td>\n",
       "      <td>(-325, 209)</td>\n",
       "      <td>1842145.0</td>\n",
       "      <td>NaN</td>\n",
       "      <td>NaN</td>\n",
       "      <td>84</td>\n",
       "      <td>3.0</td>\n",
       "    </tr>\n",
       "    <tr>\n",
       "      <th>3</th>\n",
       "      <td>3</td>\n",
       "      <td>251</td>\n",
       "      <td>bigserver2</td>\n",
       "      <td>B</td>\n",
       "      <td>1564444836</td>\n",
       "      <td>1842399</td>\n",
       "      <td>520ddb069aa77dcb202dd0310a8852e8fddc58dd</td>\n",
       "      <td>1842399_bigserver2_251</td>\n",
       "      <td>NaN</td>\n",
       "      <td>M</td>\n",
       "      <td>(67, -266)</td>\n",
       "      <td>1842397.0</td>\n",
       "      <td>NaN</td>\n",
       "      <td>NaN</td>\n",
       "      <td>83</td>\n",
       "      <td>2.0</td>\n",
       "    </tr>\n",
       "    <tr>\n",
       "      <th>4</th>\n",
       "      <td>4</td>\n",
       "      <td>251</td>\n",
       "      <td>bigserver2</td>\n",
       "      <td>D</td>\n",
       "      <td>1564444859</td>\n",
       "      <td>1842311</td>\n",
       "      <td>dfd85ac03c4dd577352484b023d19d521b592696</td>\n",
       "      <td>1842311_bigserver2_251</td>\n",
       "      <td>7.76</td>\n",
       "      <td>M</td>\n",
       "      <td>(-200, -123)</td>\n",
       "      <td>NaN</td>\n",
       "      <td>hunger</td>\n",
       "      <td>NaN</td>\n",
       "      <td>82</td>\n",
       "      <td>NaN</td>\n",
       "    </tr>\n",
       "  </tbody>\n",
       "</table>\n",
       "</div>"
      ],
      "text/plain": [
       "   Unnamed: 0  release      server event   timestamp  playerID  \\\n",
       "0           0      251  bigserver2     D  1564444828   1842380   \n",
       "1           1      251  bigserver2     D  1564444830   1842301   \n",
       "2           2      251  bigserver2     B  1564444832   1842398   \n",
       "3           3      251  bigserver2     B  1564444836   1842399   \n",
       "4           4      251  bigserver2     D  1564444859   1842311   \n",
       "\n",
       "                                       hash                uniqueID   age sex  \\\n",
       "0  583a6de73718f5dd0ddf388f4e68dc060b15e6df  1842380_bigserver2_251  1.81   F   \n",
       "1  520ddb069aa77dcb202dd0310a8852e8fddc58dd  1842301_bigserver2_251  8.00   M   \n",
       "2  583a6de73718f5dd0ddf388f4e68dc060b15e6df  1842398_bigserver2_251   NaN   F   \n",
       "3  520ddb069aa77dcb202dd0310a8852e8fddc58dd  1842399_bigserver2_251   NaN   M   \n",
       "4  dfd85ac03c4dd577352484b023d19d521b592696  1842311_bigserver2_251  7.76   M   \n",
       "\n",
       "       location     parent cause_of_death  killer  pop  chain  \n",
       "0      (48, 94)        NaN         hunger     NaN   82    NaN  \n",
       "1     (40, 350)        NaN         hunger     NaN   82    NaN  \n",
       "2   (-325, 209)  1842145.0            NaN     NaN   84    3.0  \n",
       "3    (67, -266)  1842397.0            NaN     NaN   83    2.0  \n",
       "4  (-200, -123)        NaN         hunger     NaN   82    NaN  "
      ]
     },
     "execution_count": 2,
     "metadata": {},
     "output_type": "execute_result"
    }
   ],
   "source": [
    "lifelog_data = pd.read_csv('outputs/lifelogs_201907_data.tsv', sep='\\t')\n",
    "lifelog_data.head()"
   ]
  },
  {
   "cell_type": "markdown",
   "metadata": {},
   "source": [
    "### Big Server Data only\n",
    "The bigserver is the only server that records all the data we are interested in for our analyses (lifelogs, map change, etc.), so we will just look at that separately throughout this notebook."
   ]
  },
  {
   "cell_type": "code",
   "execution_count": 3,
   "metadata": {},
   "outputs": [
    {
     "data": {
      "text/html": [
       "<div>\n",
       "<style scoped>\n",
       "    .dataframe tbody tr th:only-of-type {\n",
       "        vertical-align: middle;\n",
       "    }\n",
       "\n",
       "    .dataframe tbody tr th {\n",
       "        vertical-align: top;\n",
       "    }\n",
       "\n",
       "    .dataframe thead th {\n",
       "        text-align: right;\n",
       "    }\n",
       "</style>\n",
       "<table border=\"1\" class=\"dataframe\">\n",
       "  <thead>\n",
       "    <tr style=\"text-align: right;\">\n",
       "      <th></th>\n",
       "      <th>Unnamed: 0</th>\n",
       "      <th>release</th>\n",
       "      <th>server</th>\n",
       "      <th>event</th>\n",
       "      <th>timestamp</th>\n",
       "      <th>playerID</th>\n",
       "      <th>hash</th>\n",
       "      <th>uniqueID</th>\n",
       "      <th>age</th>\n",
       "      <th>sex</th>\n",
       "      <th>location</th>\n",
       "      <th>parent</th>\n",
       "      <th>cause_of_death</th>\n",
       "      <th>killer</th>\n",
       "      <th>pop</th>\n",
       "      <th>chain</th>\n",
       "    </tr>\n",
       "  </thead>\n",
       "  <tbody>\n",
       "    <tr>\n",
       "      <th>0</th>\n",
       "      <td>0</td>\n",
       "      <td>251</td>\n",
       "      <td>bigserver2</td>\n",
       "      <td>D</td>\n",
       "      <td>1564444828</td>\n",
       "      <td>1842380</td>\n",
       "      <td>583a6de73718f5dd0ddf388f4e68dc060b15e6df</td>\n",
       "      <td>1842380_bigserver2_251</td>\n",
       "      <td>1.81</td>\n",
       "      <td>F</td>\n",
       "      <td>(48, 94)</td>\n",
       "      <td>NaN</td>\n",
       "      <td>hunger</td>\n",
       "      <td>NaN</td>\n",
       "      <td>82</td>\n",
       "      <td>NaN</td>\n",
       "    </tr>\n",
       "    <tr>\n",
       "      <th>1</th>\n",
       "      <td>1</td>\n",
       "      <td>251</td>\n",
       "      <td>bigserver2</td>\n",
       "      <td>D</td>\n",
       "      <td>1564444830</td>\n",
       "      <td>1842301</td>\n",
       "      <td>520ddb069aa77dcb202dd0310a8852e8fddc58dd</td>\n",
       "      <td>1842301_bigserver2_251</td>\n",
       "      <td>8.00</td>\n",
       "      <td>M</td>\n",
       "      <td>(40, 350)</td>\n",
       "      <td>NaN</td>\n",
       "      <td>hunger</td>\n",
       "      <td>NaN</td>\n",
       "      <td>82</td>\n",
       "      <td>NaN</td>\n",
       "    </tr>\n",
       "    <tr>\n",
       "      <th>2</th>\n",
       "      <td>2</td>\n",
       "      <td>251</td>\n",
       "      <td>bigserver2</td>\n",
       "      <td>B</td>\n",
       "      <td>1564444832</td>\n",
       "      <td>1842398</td>\n",
       "      <td>583a6de73718f5dd0ddf388f4e68dc060b15e6df</td>\n",
       "      <td>1842398_bigserver2_251</td>\n",
       "      <td>NaN</td>\n",
       "      <td>F</td>\n",
       "      <td>(-325, 209)</td>\n",
       "      <td>1842145.0</td>\n",
       "      <td>NaN</td>\n",
       "      <td>NaN</td>\n",
       "      <td>84</td>\n",
       "      <td>3.0</td>\n",
       "    </tr>\n",
       "    <tr>\n",
       "      <th>3</th>\n",
       "      <td>3</td>\n",
       "      <td>251</td>\n",
       "      <td>bigserver2</td>\n",
       "      <td>B</td>\n",
       "      <td>1564444836</td>\n",
       "      <td>1842399</td>\n",
       "      <td>520ddb069aa77dcb202dd0310a8852e8fddc58dd</td>\n",
       "      <td>1842399_bigserver2_251</td>\n",
       "      <td>NaN</td>\n",
       "      <td>M</td>\n",
       "      <td>(67, -266)</td>\n",
       "      <td>1842397.0</td>\n",
       "      <td>NaN</td>\n",
       "      <td>NaN</td>\n",
       "      <td>83</td>\n",
       "      <td>2.0</td>\n",
       "    </tr>\n",
       "    <tr>\n",
       "      <th>4</th>\n",
       "      <td>4</td>\n",
       "      <td>251</td>\n",
       "      <td>bigserver2</td>\n",
       "      <td>D</td>\n",
       "      <td>1564444859</td>\n",
       "      <td>1842311</td>\n",
       "      <td>dfd85ac03c4dd577352484b023d19d521b592696</td>\n",
       "      <td>1842311_bigserver2_251</td>\n",
       "      <td>7.76</td>\n",
       "      <td>M</td>\n",
       "      <td>(-200, -123)</td>\n",
       "      <td>NaN</td>\n",
       "      <td>hunger</td>\n",
       "      <td>NaN</td>\n",
       "      <td>82</td>\n",
       "      <td>NaN</td>\n",
       "    </tr>\n",
       "  </tbody>\n",
       "</table>\n",
       "</div>"
      ],
      "text/plain": [
       "   Unnamed: 0  release      server event   timestamp  playerID  \\\n",
       "0           0      251  bigserver2     D  1564444828   1842380   \n",
       "1           1      251  bigserver2     D  1564444830   1842301   \n",
       "2           2      251  bigserver2     B  1564444832   1842398   \n",
       "3           3      251  bigserver2     B  1564444836   1842399   \n",
       "4           4      251  bigserver2     D  1564444859   1842311   \n",
       "\n",
       "                                       hash                uniqueID   age sex  \\\n",
       "0  583a6de73718f5dd0ddf388f4e68dc060b15e6df  1842380_bigserver2_251  1.81   F   \n",
       "1  520ddb069aa77dcb202dd0310a8852e8fddc58dd  1842301_bigserver2_251  8.00   M   \n",
       "2  583a6de73718f5dd0ddf388f4e68dc060b15e6df  1842398_bigserver2_251   NaN   F   \n",
       "3  520ddb069aa77dcb202dd0310a8852e8fddc58dd  1842399_bigserver2_251   NaN   M   \n",
       "4  dfd85ac03c4dd577352484b023d19d521b592696  1842311_bigserver2_251  7.76   M   \n",
       "\n",
       "       location     parent cause_of_death  killer  pop  chain  \n",
       "0      (48, 94)        NaN         hunger     NaN   82    NaN  \n",
       "1     (40, 350)        NaN         hunger     NaN   82    NaN  \n",
       "2   (-325, 209)  1842145.0            NaN     NaN   84    3.0  \n",
       "3    (67, -266)  1842397.0            NaN     NaN   83    2.0  \n",
       "4  (-200, -123)        NaN         hunger     NaN   82    NaN  "
      ]
     },
     "execution_count": 3,
     "metadata": {},
     "output_type": "execute_result"
    }
   ],
   "source": [
    "big_df = lifelog_data[lifelog_data['server'] == 'bigserver2'].reset_index(drop=True)\n",
    "big_df.head()"
   ]
  },
  {
   "cell_type": "markdown",
   "metadata": {},
   "source": [
    "## How many players/lives are in the dataset?"
   ]
  },
  {
   "cell_type": "markdown",
   "metadata": {},
   "source": [
    "### Birth/death events"
   ]
  },
  {
   "cell_type": "markdown",
   "metadata": {},
   "source": [
    "Births/deaths by release:"
   ]
  },
  {
   "cell_type": "code",
   "execution_count": 4,
   "metadata": {},
   "outputs": [
    {
     "data": {
      "text/html": [
       "<div>\n",
       "<style scoped>\n",
       "    .dataframe tbody tr th:only-of-type {\n",
       "        vertical-align: middle;\n",
       "    }\n",
       "\n",
       "    .dataframe tbody tr th {\n",
       "        vertical-align: top;\n",
       "    }\n",
       "\n",
       "    .dataframe thead th {\n",
       "        text-align: right;\n",
       "    }\n",
       "</style>\n",
       "<table border=\"1\" class=\"dataframe\">\n",
       "  <thead>\n",
       "    <tr style=\"text-align: right;\">\n",
       "      <th></th>\n",
       "      <th>release</th>\n",
       "      <th>event</th>\n",
       "      <th>playerID</th>\n",
       "    </tr>\n",
       "  </thead>\n",
       "  <tbody>\n",
       "    <tr>\n",
       "      <th>0</th>\n",
       "      <td>251</td>\n",
       "      <td>B</td>\n",
       "      <td>20621</td>\n",
       "    </tr>\n",
       "    <tr>\n",
       "      <th>1</th>\n",
       "      <td>251</td>\n",
       "      <td>D</td>\n",
       "      <td>20616</td>\n",
       "    </tr>\n",
       "    <tr>\n",
       "      <th>2</th>\n",
       "      <td>256</td>\n",
       "      <td>B</td>\n",
       "      <td>118545</td>\n",
       "    </tr>\n",
       "    <tr>\n",
       "      <th>3</th>\n",
       "      <td>256</td>\n",
       "      <td>D</td>\n",
       "      <td>118458</td>\n",
       "    </tr>\n",
       "    <tr>\n",
       "      <th>4</th>\n",
       "      <td>260</td>\n",
       "      <td>B</td>\n",
       "      <td>56075</td>\n",
       "    </tr>\n",
       "  </tbody>\n",
       "</table>\n",
       "</div>"
      ],
      "text/plain": [
       "   release event  playerID\n",
       "0      251     B     20621\n",
       "1      251     D     20616\n",
       "2      256     B    118545\n",
       "3      256     D    118458\n",
       "4      260     B     56075"
      ]
     },
     "execution_count": 4,
     "metadata": {},
     "output_type": "execute_result"
    }
   ],
   "source": [
    "big_activity = big_df.groupby(['release', 'event']).agg({'playerID': 'count'})\n",
    "big_activity = big_activity.reset_index()\n",
    "\n",
    "big_activity.head()"
   ]
  },
  {
   "cell_type": "code",
   "execution_count": 5,
   "metadata": {},
   "outputs": [
    {
     "data": {
      "text/plain": [
       "<seaborn.axisgrid.FacetGrid at 0x7fac53e0fd10>"
      ]
     },
     "execution_count": 5,
     "metadata": {},
     "output_type": "execute_result"
    },
    {
     "data": {
      "image/png": "[encoded data removed]",
      "text/plain": [
       "<Figure size 432x216 with 2 Axes>"
      ]
     },
     "metadata": {
      "needs_background": "light"
     },
     "output_type": "display_data"
    }
   ],
   "source": [
    "grid = sns.FacetGrid(big_activity, col=\"event\", hue=\"event\")\n",
    "grid.map(plt.plot, \"release\", \"playerID\", marker=\"o\")"
   ]
  },
  {
   "cell_type": "markdown",
   "metadata": {},
   "source": [
    "Total births and deaths:"
   ]
  },
  {
   "cell_type": "code",
   "execution_count": 6,
   "metadata": {},
   "outputs": [
    {
     "data": {
      "text/plain": [
       "event\n",
       "B    663915\n",
       "D    662902\n",
       "Name: playerID, dtype: int64"
      ]
     },
     "execution_count": 6,
     "metadata": {},
     "output_type": "execute_result"
    }
   ],
   "source": [
    "big_activity.groupby('event')['playerID'].sum()"
   ]
  },
  {
   "cell_type": "markdown",
   "metadata": {},
   "source": [
    "Overall, there are fewer deaths in the data than there are births. Is this because the data for the last release before we initiated the download was incomplete, or because the data are consistently cut off at each release? \n"
   ]
  },
  {
   "cell_type": "code",
   "execution_count": 7,
   "metadata": {},
   "outputs": [
    {
     "data": {
      "text/plain": [
       "<matplotlib.lines.Line2D at 0x7fac207e8250>"
      ]
     },
     "execution_count": 7,
     "metadata": {},
     "output_type": "execute_result"
    },
    {
     "data": {
      "image/png": "[encoded data removed]",
      "text/plain": [
       "<Figure size 432x288 with 1 Axes>"
      ]
     },
     "metadata": {
      "needs_background": "light"
     },
     "output_type": "display_data"
    }
   ],
   "source": [
    "big_by_release = big_activity.groupby(['release', 'event'])['playerID'].sum().reset_index()\n",
    "big_diff = big_by_release.pivot(index='release', columns='event', values='playerID').reset_index()\n",
    "big_diff['diff'] = big_diff['B'] - big_diff['D']\n",
    "\n",
    "plt.plot(big_diff['release'], big_diff['diff'], marker = 'o')\n",
    "plt.axhline(y = 0, linestyle = '--', color='#aaaaaa')"
   ]
  },
  {
   "cell_type": "markdown",
   "metadata": {},
   "source": [
    "### Unique player hashes"
   ]
  },
  {
   "cell_type": "markdown",
   "metadata": {},
   "source": [
    "Each player has a unique, anonymized hash associated with them. By tracking how often a particular hash appears in birth events, we can get a sense of how many \"lives\" unique players contribute to the dataset. I am also particularly curious about whether there might be some particularly prolific \"power-users\" driving innovation and development."
   ]
  },
  {
   "cell_type": "markdown",
   "metadata": {},
   "source": [
    "Filter birth events:"
   ]
  },
  {
   "cell_type": "code",
   "execution_count": 8,
   "metadata": {},
   "outputs": [
    {
     "data": {
      "text/html": [
       "<div>\n",
       "<style scoped>\n",
       "    .dataframe tbody tr th:only-of-type {\n",
       "        vertical-align: middle;\n",
       "    }\n",
       "\n",
       "    .dataframe tbody tr th {\n",
       "        vertical-align: top;\n",
       "    }\n",
       "\n",
       "    .dataframe thead th {\n",
       "        text-align: right;\n",
       "    }\n",
       "</style>\n",
       "<table border=\"1\" class=\"dataframe\">\n",
       "  <thead>\n",
       "    <tr style=\"text-align: right;\">\n",
       "      <th></th>\n",
       "      <th>Unnamed: 0</th>\n",
       "      <th>release</th>\n",
       "      <th>server</th>\n",
       "      <th>event</th>\n",
       "      <th>timestamp</th>\n",
       "      <th>playerID</th>\n",
       "      <th>hash</th>\n",
       "      <th>uniqueID</th>\n",
       "      <th>age</th>\n",
       "      <th>sex</th>\n",
       "      <th>location</th>\n",
       "      <th>parent</th>\n",
       "      <th>cause_of_death</th>\n",
       "      <th>killer</th>\n",
       "      <th>pop</th>\n",
       "      <th>chain</th>\n",
       "    </tr>\n",
       "  </thead>\n",
       "  <tbody>\n",
       "    <tr>\n",
       "      <th>0</th>\n",
       "      <td>2</td>\n",
       "      <td>251</td>\n",
       "      <td>bigserver2</td>\n",
       "      <td>B</td>\n",
       "      <td>1564444832</td>\n",
       "      <td>1842398</td>\n",
       "      <td>583a6de73718f5dd0ddf388f4e68dc060b15e6df</td>\n",
       "      <td>1842398_bigserver2_251</td>\n",
       "      <td>NaN</td>\n",
       "      <td>F</td>\n",
       "      <td>(-325, 209)</td>\n",
       "      <td>1842145.0</td>\n",
       "      <td>NaN</td>\n",
       "      <td>NaN</td>\n",
       "      <td>84</td>\n",
       "      <td>3.0</td>\n",
       "    </tr>\n",
       "    <tr>\n",
       "      <th>1</th>\n",
       "      <td>3</td>\n",
       "      <td>251</td>\n",
       "      <td>bigserver2</td>\n",
       "      <td>B</td>\n",
       "      <td>1564444836</td>\n",
       "      <td>1842399</td>\n",
       "      <td>520ddb069aa77dcb202dd0310a8852e8fddc58dd</td>\n",
       "      <td>1842399_bigserver2_251</td>\n",
       "      <td>NaN</td>\n",
       "      <td>M</td>\n",
       "      <td>(67, -266)</td>\n",
       "      <td>1842397.0</td>\n",
       "      <td>NaN</td>\n",
       "      <td>NaN</td>\n",
       "      <td>83</td>\n",
       "      <td>2.0</td>\n",
       "    </tr>\n",
       "    <tr>\n",
       "      <th>2</th>\n",
       "      <td>8</td>\n",
       "      <td>251</td>\n",
       "      <td>bigserver2</td>\n",
       "      <td>B</td>\n",
       "      <td>1564444863</td>\n",
       "      <td>1842400</td>\n",
       "      <td>dfd85ac03c4dd577352484b023d19d521b592696</td>\n",
       "      <td>1842400_bigserver2_251</td>\n",
       "      <td>NaN</td>\n",
       "      <td>M</td>\n",
       "      <td>(16, -57)</td>\n",
       "      <td>1842304.0</td>\n",
       "      <td>NaN</td>\n",
       "      <td>NaN</td>\n",
       "      <td>84</td>\n",
       "      <td>2.0</td>\n",
       "    </tr>\n",
       "    <tr>\n",
       "      <th>3</th>\n",
       "      <td>9</td>\n",
       "      <td>251</td>\n",
       "      <td>bigserver2</td>\n",
       "      <td>B</td>\n",
       "      <td>1564444864</td>\n",
       "      <td>1842401</td>\n",
       "      <td>fd6e14532b361175d5203c50a22d20fe951c89f0</td>\n",
       "      <td>1842401_bigserver2_251</td>\n",
       "      <td>NaN</td>\n",
       "      <td>M</td>\n",
       "      <td>(146, 49)</td>\n",
       "      <td>1842336.0</td>\n",
       "      <td>NaN</td>\n",
       "      <td>NaN</td>\n",
       "      <td>84</td>\n",
       "      <td>2.0</td>\n",
       "    </tr>\n",
       "    <tr>\n",
       "      <th>4</th>\n",
       "      <td>11</td>\n",
       "      <td>251</td>\n",
       "      <td>bigserver2</td>\n",
       "      <td>B</td>\n",
       "      <td>1564444866</td>\n",
       "      <td>1842402</td>\n",
       "      <td>f766576701306189b31a049054c0840b39f84c51</td>\n",
       "      <td>1842402_bigserver2_251</td>\n",
       "      <td>NaN</td>\n",
       "      <td>F</td>\n",
       "      <td>(68, 64)</td>\n",
       "      <td>1842334.0</td>\n",
       "      <td>NaN</td>\n",
       "      <td>NaN</td>\n",
       "      <td>84</td>\n",
       "      <td>2.0</td>\n",
       "    </tr>\n",
       "  </tbody>\n",
       "</table>\n",
       "</div>"
      ],
      "text/plain": [
       "   Unnamed: 0  release      server event   timestamp  playerID  \\\n",
       "0           2      251  bigserver2     B  1564444832   1842398   \n",
       "1           3      251  bigserver2     B  1564444836   1842399   \n",
       "2           8      251  bigserver2     B  1564444863   1842400   \n",
       "3           9      251  bigserver2     B  1564444864   1842401   \n",
       "4          11      251  bigserver2     B  1564444866   1842402   \n",
       "\n",
       "                                       hash                uniqueID  age sex  \\\n",
       "0  583a6de73718f5dd0ddf388f4e68dc060b15e6df  1842398_bigserver2_251  NaN   F   \n",
       "1  520ddb069aa77dcb202dd0310a8852e8fddc58dd  1842399_bigserver2_251  NaN   M   \n",
       "2  dfd85ac03c4dd577352484b023d19d521b592696  1842400_bigserver2_251  NaN   M   \n",
       "3  fd6e14532b361175d5203c50a22d20fe951c89f0  1842401_bigserver2_251  NaN   M   \n",
       "4  f766576701306189b31a049054c0840b39f84c51  1842402_bigserver2_251  NaN   F   \n",
       "\n",
       "      location     parent cause_of_death  killer  pop  chain  \n",
       "0  (-325, 209)  1842145.0            NaN     NaN   84    3.0  \n",
       "1   (67, -266)  1842397.0            NaN     NaN   83    2.0  \n",
       "2    (16, -57)  1842304.0            NaN     NaN   84    2.0  \n",
       "3    (146, 49)  1842336.0            NaN     NaN   84    2.0  \n",
       "4     (68, 64)  1842334.0            NaN     NaN   84    2.0  "
      ]
     },
     "execution_count": 8,
     "metadata": {},
     "output_type": "execute_result"
    }
   ],
   "source": [
    "big_births = big_df[big_df['event'] == 'B'].reset_index(drop=True)\n",
    "big_births.head()"
   ]
  },
  {
   "cell_type": "markdown",
   "metadata": {},
   "source": [
    "Count occurrences of each hash:"
   ]
  },
  {
   "cell_type": "code",
   "execution_count": 9,
   "metadata": {},
   "outputs": [
    {
     "data": {
      "text/html": [
       "<div>\n",
       "<style scoped>\n",
       "    .dataframe tbody tr th:only-of-type {\n",
       "        vertical-align: middle;\n",
       "    }\n",
       "\n",
       "    .dataframe tbody tr th {\n",
       "        vertical-align: top;\n",
       "    }\n",
       "\n",
       "    .dataframe thead th {\n",
       "        text-align: right;\n",
       "    }\n",
       "</style>\n",
       "<table border=\"1\" class=\"dataframe\">\n",
       "  <thead>\n",
       "    <tr style=\"text-align: right;\">\n",
       "      <th></th>\n",
       "      <th>player</th>\n",
       "      <th>n_lives</th>\n",
       "    </tr>\n",
       "  </thead>\n",
       "  <tbody>\n",
       "    <tr>\n",
       "      <th>0</th>\n",
       "      <td>000548ed7f04e2ddf81b4016d87d53ddbbd2e89f</td>\n",
       "      <td>28</td>\n",
       "    </tr>\n",
       "    <tr>\n",
       "      <th>1</th>\n",
       "      <td>0005eb266ff93d00bb6072d9c07f3a47d4864219</td>\n",
       "      <td>2</td>\n",
       "    </tr>\n",
       "    <tr>\n",
       "      <th>2</th>\n",
       "      <td>0006e793a53a3ad5d1667e80292e4940efacd606</td>\n",
       "      <td>3</td>\n",
       "    </tr>\n",
       "    <tr>\n",
       "      <th>3</th>\n",
       "      <td>0007754ac6e3e2ea974b83556f326bac4b81d673</td>\n",
       "      <td>41</td>\n",
       "    </tr>\n",
       "    <tr>\n",
       "      <th>4</th>\n",
       "      <td>000cf665aeba6f86694ec3089d9d6449753aca2b</td>\n",
       "      <td>6</td>\n",
       "    </tr>\n",
       "  </tbody>\n",
       "</table>\n",
       "</div>"
      ],
      "text/plain": [
       "                                     player  n_lives\n",
       "0  000548ed7f04e2ddf81b4016d87d53ddbbd2e89f       28\n",
       "1  0005eb266ff93d00bb6072d9c07f3a47d4864219        2\n",
       "2  0006e793a53a3ad5d1667e80292e4940efacd606        3\n",
       "3  0007754ac6e3e2ea974b83556f326bac4b81d673       41\n",
       "4  000cf665aeba6f86694ec3089d9d6449753aca2b        6"
      ]
     },
     "execution_count": 9,
     "metadata": {},
     "output_type": "execute_result"
    }
   ],
   "source": [
    "big_hash = big_births.groupby('hash')['timestamp'].count().reset_index()\n",
    "big_hash = big_hash.rename(columns={\"hash\": \"player\", \"timestamp\": \"n_lives\"})\n",
    "big_hash.head()"
   ]
  },
  {
   "cell_type": "markdown",
   "metadata": {},
   "source": [
    "How many unique players are there?"
   ]
  },
  {
   "cell_type": "code",
   "execution_count": 10,
   "metadata": {},
   "outputs": [
    {
     "data": {
      "text/plain": [
       "18781"
      ]
     },
     "execution_count": 10,
     "metadata": {},
     "output_type": "execute_result"
    }
   ],
   "source": [
    "big_hash.shape[0]"
   ]
  },
  {
   "cell_type": "markdown",
   "metadata": {},
   "source": [
    "How many lives does each player contribute?"
   ]
  },
  {
   "cell_type": "code",
   "execution_count": 11,
   "metadata": {},
   "outputs": [
    {
     "data": {
      "image/png": "[encoded data removed]",
      "text/plain": [
       "<Figure size 432x288 with 1 Axes>"
      ]
     },
     "metadata": {
      "needs_background": "light"
     },
     "output_type": "display_data"
    }
   ],
   "source": [
    "n_lives = big_hash['n_lives'].values\n",
    "g = sns.distplot(n_lives)\n",
    "g.set_xscale('log')"
   ]
  },
  {
   "cell_type": "markdown",
   "metadata": {},
   "source": [
    "Some descriptive statistics:"
   ]
  },
  {
   "cell_type": "code",
   "execution_count": 12,
   "metadata": {},
   "outputs": [
    {
     "name": "stdout",
     "output_type": "stream",
     "text": [
      "Max: 4173.000000\n",
      "Min: 1.000000\n",
      "Median: 5.000000\n",
      "ModeResult(mode=array([1]), count=array([3962]))\n"
     ]
    }
   ],
   "source": [
    "print('Max: %f' % np.max(n_lives))\n",
    "print('Min: %f' % np.min(n_lives))\n",
    "print('Median: %f' % np.median(n_lives))\n",
    "print(stats.mode(n_lives))"
   ]
  },
  {
   "cell_type": "markdown",
   "metadata": {},
   "source": [
    "Empirical CDF:"
   ]
  },
  {
   "cell_type": "code",
   "execution_count": 20,
   "metadata": {},
   "outputs": [
    {
     "data": {
      "text/plain": [
       "Text(0, 0.5, 'Cumulative density')"
      ]
     },
     "execution_count": 20,
     "metadata": {},
     "output_type": "execute_result"
    },
    {
     "data": {
      "image/png": "[encoded data removed]",
      "text/plain": [
       "<Figure size 432x288 with 1 Axes>"
      ]
     },
     "metadata": {
      "needs_background": "light"
     },
     "output_type": "display_data"
    }
   ],
   "source": [
    "n_lives_ecdf = ECDF(n_lives)\n",
    "plt.plot(n_lives_ecdf.x, n_lives_ecdf.y)\n",
    "plt.xlabel('# lives')\n",
    "plt.ylabel('Cumulative density')"
   ]
  },
  {
   "cell_type": "markdown",
   "metadata": {},
   "source": [
    "Cumulative counts:"
   ]
  },
  {
   "cell_type": "code",
   "execution_count": 14,
   "metadata": {},
   "outputs": [
    {
     "name": "stdout",
     "output_type": "stream",
     "text": [
      "p <= 1: 0.211\n",
      "p <= 25: 0.795\n",
      "p <= 50: 0.875\n",
      "p <= 100: 0.929\n",
      "p <= 500: 0.988\n",
      "p <= 1000: 0.996\n",
      "p <= 2500: 1.000\n",
      "p <= 4000: 1.000\n"
     ]
    }
   ],
   "source": [
    "lives_breaks = [1, 25, 50, 100, 500, 1000, 2500, 4000]\n",
    "lives_prop = n_lives_ecdf(lives_breaks)\n",
    "\n",
    "lives_list = list(zip(lives_breaks, lives_prop))\n",
    "print(*['p <= %i: %0.3f' % (l[0], l[1]) for l in lives_list], sep='\\n')"
   ]
  },
  {
   "cell_type": "markdown",
   "metadata": {},
   "source": [
    "Top contributors:"
   ]
  },
  {
   "cell_type": "code",
   "execution_count": 15,
   "metadata": {},
   "outputs": [
    {
     "data": {
      "text/html": [
       "<div>\n",
       "<style scoped>\n",
       "    .dataframe tbody tr th:only-of-type {\n",
       "        vertical-align: middle;\n",
       "    }\n",
       "\n",
       "    .dataframe tbody tr th {\n",
       "        vertical-align: top;\n",
       "    }\n",
       "\n",
       "    .dataframe thead th {\n",
       "        text-align: right;\n",
       "    }\n",
       "</style>\n",
       "<table border=\"1\" class=\"dataframe\">\n",
       "  <thead>\n",
       "    <tr style=\"text-align: right;\">\n",
       "      <th></th>\n",
       "      <th>player</th>\n",
       "      <th>n_lives</th>\n",
       "    </tr>\n",
       "  </thead>\n",
       "  <tbody>\n",
       "    <tr>\n",
       "      <th>0</th>\n",
       "      <td>54a14bbedd0aa108fc4d36923687a81502a92aac</td>\n",
       "      <td>4173</td>\n",
       "    </tr>\n",
       "    <tr>\n",
       "      <th>1</th>\n",
       "      <td>e4fc9f1fc0bc611c05205e7aaaba3a51081374dc</td>\n",
       "      <td>3533</td>\n",
       "    </tr>\n",
       "    <tr>\n",
       "      <th>2</th>\n",
       "      <td>ea5ea8d1bef19a9847bc8ca874e2dfa0a847ffc9</td>\n",
       "      <td>3352</td>\n",
       "    </tr>\n",
       "    <tr>\n",
       "      <th>3</th>\n",
       "      <td>8ac173f9346f99eff5fb54d55b57acaace951896</td>\n",
       "      <td>3056</td>\n",
       "    </tr>\n",
       "    <tr>\n",
       "      <th>4</th>\n",
       "      <td>2260ec3961330cf12ed97ad87a93d52fa1f335fa</td>\n",
       "      <td>3032</td>\n",
       "    </tr>\n",
       "    <tr>\n",
       "      <th>...</th>\n",
       "      <td>...</td>\n",
       "      <td>...</td>\n",
       "    </tr>\n",
       "    <tr>\n",
       "      <th>95</th>\n",
       "      <td>e3f1bac1ee98f9acead9891ac40eb3194d8ffa4b</td>\n",
       "      <td>831</td>\n",
       "    </tr>\n",
       "    <tr>\n",
       "      <th>96</th>\n",
       "      <td>26394e1801dabc8116dbe00f4e45317c5471b988</td>\n",
       "      <td>829</td>\n",
       "    </tr>\n",
       "    <tr>\n",
       "      <th>97</th>\n",
       "      <td>f96f456c0409932400b2fc61bed0b709f5f8f067</td>\n",
       "      <td>811</td>\n",
       "    </tr>\n",
       "    <tr>\n",
       "      <th>98</th>\n",
       "      <td>c0e06a033a6e173e14ccf5b4639974df4821d5f1</td>\n",
       "      <td>807</td>\n",
       "    </tr>\n",
       "    <tr>\n",
       "      <th>99</th>\n",
       "      <td>627f11024931351ed966642886f253ae0d28e617</td>\n",
       "      <td>804</td>\n",
       "    </tr>\n",
       "  </tbody>\n",
       "</table>\n",
       "<p>100 rows × 2 columns</p>\n",
       "</div>"
      ],
      "text/plain": [
       "                                      player  n_lives\n",
       "0   54a14bbedd0aa108fc4d36923687a81502a92aac     4173\n",
       "1   e4fc9f1fc0bc611c05205e7aaaba3a51081374dc     3533\n",
       "2   ea5ea8d1bef19a9847bc8ca874e2dfa0a847ffc9     3352\n",
       "3   8ac173f9346f99eff5fb54d55b57acaace951896     3056\n",
       "4   2260ec3961330cf12ed97ad87a93d52fa1f335fa     3032\n",
       "..                                       ...      ...\n",
       "95  e3f1bac1ee98f9acead9891ac40eb3194d8ffa4b      831\n",
       "96  26394e1801dabc8116dbe00f4e45317c5471b988      829\n",
       "97  f96f456c0409932400b2fc61bed0b709f5f8f067      811\n",
       "98  c0e06a033a6e173e14ccf5b4639974df4821d5f1      807\n",
       "99  627f11024931351ed966642886f253ae0d28e617      804\n",
       "\n",
       "[100 rows x 2 columns]"
      ]
     },
     "execution_count": 15,
     "metadata": {},
     "output_type": "execute_result"
    }
   ],
   "source": [
    "big_top = big_hash.sort_values('n_lives', ascending=False).reset_index(drop=True)\n",
    "big_top.to_csv('outputs/topplayers_201907.tsv', sep='\\t', index=True)\n",
    "big_top[:100]"
   ]
  },
  {
   "cell_type": "markdown",
   "metadata": {},
   "source": [
    "## When and how do people die?"
   ]
  },
  {
   "cell_type": "markdown",
   "metadata": {},
   "source": [
    "Filter deaths:"
   ]
  },
  {
   "cell_type": "code",
   "execution_count": 16,
   "metadata": {},
   "outputs": [
    {
     "data": {
      "text/html": [
       "<div>\n",
       "<style scoped>\n",
       "    .dataframe tbody tr th:only-of-type {\n",
       "        vertical-align: middle;\n",
       "    }\n",
       "\n",
       "    .dataframe tbody tr th {\n",
       "        vertical-align: top;\n",
       "    }\n",
       "\n",
       "    .dataframe thead th {\n",
       "        text-align: right;\n",
       "    }\n",
       "</style>\n",
       "<table border=\"1\" class=\"dataframe\">\n",
       "  <thead>\n",
       "    <tr style=\"text-align: right;\">\n",
       "      <th></th>\n",
       "      <th>Unnamed: 0</th>\n",
       "      <th>release</th>\n",
       "      <th>server</th>\n",
       "      <th>event</th>\n",
       "      <th>timestamp</th>\n",
       "      <th>playerID</th>\n",
       "      <th>hash</th>\n",
       "      <th>uniqueID</th>\n",
       "      <th>age</th>\n",
       "      <th>sex</th>\n",
       "      <th>location</th>\n",
       "      <th>parent</th>\n",
       "      <th>cause_of_death</th>\n",
       "      <th>killer</th>\n",
       "      <th>pop</th>\n",
       "      <th>chain</th>\n",
       "    </tr>\n",
       "  </thead>\n",
       "  <tbody>\n",
       "    <tr>\n",
       "      <th>0</th>\n",
       "      <td>0</td>\n",
       "      <td>251</td>\n",
       "      <td>bigserver2</td>\n",
       "      <td>D</td>\n",
       "      <td>1564444828</td>\n",
       "      <td>1842380</td>\n",
       "      <td>583a6de73718f5dd0ddf388f4e68dc060b15e6df</td>\n",
       "      <td>1842380_bigserver2_251</td>\n",
       "      <td>1.81</td>\n",
       "      <td>F</td>\n",
       "      <td>(48, 94)</td>\n",
       "      <td>NaN</td>\n",
       "      <td>hunger</td>\n",
       "      <td>NaN</td>\n",
       "      <td>82</td>\n",
       "      <td>NaN</td>\n",
       "    </tr>\n",
       "    <tr>\n",
       "      <th>1</th>\n",
       "      <td>1</td>\n",
       "      <td>251</td>\n",
       "      <td>bigserver2</td>\n",
       "      <td>D</td>\n",
       "      <td>1564444830</td>\n",
       "      <td>1842301</td>\n",
       "      <td>520ddb069aa77dcb202dd0310a8852e8fddc58dd</td>\n",
       "      <td>1842301_bigserver2_251</td>\n",
       "      <td>8.00</td>\n",
       "      <td>M</td>\n",
       "      <td>(40, 350)</td>\n",
       "      <td>NaN</td>\n",
       "      <td>hunger</td>\n",
       "      <td>NaN</td>\n",
       "      <td>82</td>\n",
       "      <td>NaN</td>\n",
       "    </tr>\n",
       "    <tr>\n",
       "      <th>2</th>\n",
       "      <td>4</td>\n",
       "      <td>251</td>\n",
       "      <td>bigserver2</td>\n",
       "      <td>D</td>\n",
       "      <td>1564444859</td>\n",
       "      <td>1842311</td>\n",
       "      <td>dfd85ac03c4dd577352484b023d19d521b592696</td>\n",
       "      <td>1842311_bigserver2_251</td>\n",
       "      <td>7.76</td>\n",
       "      <td>M</td>\n",
       "      <td>(-200, -123)</td>\n",
       "      <td>NaN</td>\n",
       "      <td>hunger</td>\n",
       "      <td>NaN</td>\n",
       "      <td>82</td>\n",
       "      <td>NaN</td>\n",
       "    </tr>\n",
       "    <tr>\n",
       "      <th>3</th>\n",
       "      <td>5</td>\n",
       "      <td>251</td>\n",
       "      <td>bigserver2</td>\n",
       "      <td>D</td>\n",
       "      <td>1564444861</td>\n",
       "      <td>1842145</td>\n",
       "      <td>f766576701306189b31a049054c0840b39f84c51</td>\n",
       "      <td>1842145_bigserver2_251</td>\n",
       "      <td>18.89</td>\n",
       "      <td>F</td>\n",
       "      <td>(-322, 242)</td>\n",
       "      <td>NaN</td>\n",
       "      <td>hunger</td>\n",
       "      <td>NaN</td>\n",
       "      <td>82</td>\n",
       "      <td>NaN</td>\n",
       "    </tr>\n",
       "    <tr>\n",
       "      <th>4</th>\n",
       "      <td>6</td>\n",
       "      <td>251</td>\n",
       "      <td>bigserver2</td>\n",
       "      <td>D</td>\n",
       "      <td>1564444863</td>\n",
       "      <td>1842359</td>\n",
       "      <td>9381dc0dab74b62eee67d3dc275f5c61ea51bcd0</td>\n",
       "      <td>1842359_bigserver2_251</td>\n",
       "      <td>4.23</td>\n",
       "      <td>M</td>\n",
       "      <td>(-308, 258)</td>\n",
       "      <td>NaN</td>\n",
       "      <td>hunger</td>\n",
       "      <td>NaN</td>\n",
       "      <td>82</td>\n",
       "      <td>NaN</td>\n",
       "    </tr>\n",
       "  </tbody>\n",
       "</table>\n",
       "</div>"
      ],
      "text/plain": [
       "   Unnamed: 0  release      server event   timestamp  playerID  \\\n",
       "0           0      251  bigserver2     D  1564444828   1842380   \n",
       "1           1      251  bigserver2     D  1564444830   1842301   \n",
       "2           4      251  bigserver2     D  1564444859   1842311   \n",
       "3           5      251  bigserver2     D  1564444861   1842145   \n",
       "4           6      251  bigserver2     D  1564444863   1842359   \n",
       "\n",
       "                                       hash                uniqueID    age  \\\n",
       "0  583a6de73718f5dd0ddf388f4e68dc060b15e6df  1842380_bigserver2_251   1.81   \n",
       "1  520ddb069aa77dcb202dd0310a8852e8fddc58dd  1842301_bigserver2_251   8.00   \n",
       "2  dfd85ac03c4dd577352484b023d19d521b592696  1842311_bigserver2_251   7.76   \n",
       "3  f766576701306189b31a049054c0840b39f84c51  1842145_bigserver2_251  18.89   \n",
       "4  9381dc0dab74b62eee67d3dc275f5c61ea51bcd0  1842359_bigserver2_251   4.23   \n",
       "\n",
       "  sex      location  parent cause_of_death  killer  pop  chain  \n",
       "0   F      (48, 94)     NaN         hunger     NaN   82    NaN  \n",
       "1   M     (40, 350)     NaN         hunger     NaN   82    NaN  \n",
       "2   M  (-200, -123)     NaN         hunger     NaN   82    NaN  \n",
       "3   F   (-322, 242)     NaN         hunger     NaN   82    NaN  \n",
       "4   M   (-308, 258)     NaN         hunger     NaN   82    NaN  "
      ]
     },
     "execution_count": 16,
     "metadata": {},
     "output_type": "execute_result"
    }
   ],
   "source": [
    "death_data = lifelog_data[lifelog_data['event'] == 'D'].reset_index(drop=True)\n",
    "death_data.head()"
   ]
  },
  {
   "cell_type": "code",
   "execution_count": 17,
   "metadata": {},
   "outputs": [
    {
     "name": "stdout",
     "output_type": "stream",
     "text": [
      "Plotting 703717 deaths\n"
     ]
    },
    {
     "data": {
      "text/plain": [
       "<matplotlib.axes._subplots.AxesSubplot at 0x7fac1e7967d0>"
      ]
     },
     "execution_count": 17,
     "metadata": {},
     "output_type": "execute_result"
    },
    {
     "data": {
      "image/png": "[encoded data removed]",
      "text/plain": [
       "<Figure size 432x288 with 1 Axes>"
      ]
     },
     "metadata": {
      "needs_background": "light"
     },
     "output_type": "display_data"
    }
   ],
   "source": [
    "print('Plotting %i deaths' % len(death_data))\n",
    "sns.distplot(death_data['age'])"
   ]
  },
  {
   "cell_type": "markdown",
   "metadata": {},
   "source": [
    "Frequency of causes of death:"
   ]
  },
  {
   "cell_type": "code",
   "execution_count": 18,
   "metadata": {},
   "outputs": [
    {
     "data": {
      "text/plain": [
       "<matplotlib.axes._subplots.AxesSubplot at 0x7fac1e737b90>"
      ]
     },
     "execution_count": 18,
     "metadata": {},
     "output_type": "execute_result"
    },
    {
     "data": {
      "image/png": "[encoded data removed]",
      "text/plain": [
       "<Figure size 432x288 with 1 Axes>"
      ]
     },
     "metadata": {
      "needs_background": "light"
     },
     "output_type": "display_data"
    }
   ],
   "source": [
    "sns.countplot(x='cause_of_death', data=death_data)"
   ]
  },
  {
   "cell_type": "markdown",
   "metadata": {},
   "source": [
    "Age by cause of death:"
   ]
  },
  {
   "cell_type": "code",
   "execution_count": 19,
   "metadata": {},
   "outputs": [
    {
     "name": "stderr",
     "output_type": "stream",
     "text": [
      "/Users/nvelez/opt/anaconda3/lib/python3.7/site-packages/seaborn/distributions.py:288: UserWarning: Data must have variance to compute a kernel density estimate.\n",
      "  warnings.warn(msg, UserWarning)\n"
     ]
    },
    {
     "data": {
      "text/plain": [
       "<seaborn.axisgrid.FacetGrid at 0x7fac1ed96a10>"
      ]
     },
     "execution_count": 19,
     "metadata": {},
     "output_type": "execute_result"
    },
    {
     "data": {
      "image/png": "[encoded data removed]",
      "text/plain": [
       "<Figure size 864x216 with 4 Axes>"
      ]
     },
     "metadata": {
      "needs_background": "light"
     },
     "output_type": "display_data"
    }
   ],
   "source": [
    "g = sns.FacetGrid(death_data, col='cause_of_death', sharey=False)\n",
    "g.map(sns.distplot, \"age\")"
   ]
  }
 ],
 "metadata": {
  "kernelspec": {
   "display_name": "Python 3",
   "language": "python",
   "name": "python3"
  },
  "language_info": {
   "codemirror_mode": {
    "name": "ipython",
    "version": 3
   },
   "file_extension": ".py",
   "mimetype": "text/x-python",
   "name": "python",
   "nbconvert_exporter": "python",
   "pygments_lexer": "ipython3",
   "version": "3.7.6"
  }
 },
 "nbformat": 4,
 "nbformat_minor": 2
}
