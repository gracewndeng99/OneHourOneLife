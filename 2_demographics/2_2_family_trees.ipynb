{
 "cells": [
  {
   "cell_type": "markdown",
   "metadata": {},
   "source": [
    "# Family trees\n",
    "Natalia Vélez, December 2019--January 2020\n",
    "\n",
    "Next to-do: Choose subset of the data to run the analysis?"
   ]
  },
  {
   "cell_type": "code",
   "execution_count": 55,
   "metadata": {},
   "outputs": [],
   "source": [
    "%matplotlib inline\n",
    "\n",
    "import os, re, glob, random\n",
    "import pandas as pd\n",
    "import numpy as np\n",
    "import networkx as nx\n",
    "import matplotlib.pyplot as plt\n",
    "import seaborn as sns\n",
    "from os.path import join as opj\n",
    "from tqdm import tqdm_notebook\n",
    "\n",
    "sns.set_context('paper')"
   ]
  },
  {
   "cell_type": "markdown",
   "metadata": {},
   "source": [
    "Helper functions:"
   ]
  },
  {
   "cell_type": "code",
   "execution_count": 56,
   "metadata": {},
   "outputs": [],
   "source": [
    "gsearch = lambda *args: glob.glob(opj(*args))\n",
    "str_extract = lambda pattern, s: re.search(pattern, s).group(0)"
   ]
  },
  {
   "cell_type": "markdown",
   "metadata": {},
   "source": [
    "## Load data"
   ]
  },
  {
   "cell_type": "markdown",
   "metadata": {},
   "source": [
    "Find data files:"
   ]
  },
  {
   "cell_type": "code",
   "execution_count": 57,
   "metadata": {},
   "outputs": [
    {
     "name": "stdout",
     "output_type": "stream",
     "text": [
      "9046 files found\n"
     ]
    }
   ],
   "source": [
    "data_dir = '../data/'\n",
    "data_files = gsearch(data_dir, 'publicLifeLogData', '**', '*y.txt')\n",
    "print('%i files found' % len(data_files))"
   ]
  },
  {
   "cell_type": "markdown",
   "metadata": {},
   "source": [
    "Load all files:"
   ]
  },
  {
   "cell_type": "code",
   "execution_count": 58,
   "metadata": {},
   "outputs": [
    {
     "data": {
      "application/vnd.jupyter.widget-view+json": {
       "model_id": "be7c6cb30fc24fe88c634609eb06860f",
       "version_major": 2,
       "version_minor": 0
      },
      "text/plain": [
       "HBox(children=(IntProgress(value=0, max=9046), HTML(value='')))"
      ]
     },
     "metadata": {},
     "output_type": "display_data"
    }
   ],
   "source": [
    "data_list = []\n",
    "empty_files = []\n",
    "for f in tqdm_notebook(data_files):\n",
    "    try:\n",
    "        tmp_d = pd.read_csv(f, sep =' ', header=None)\n",
    "        data_list.append(tmp_d)\n",
    "    except:\n",
    "        empty_files.append(f)"
   ]
  },
  {
   "cell_type": "code",
   "execution_count": 44,
   "metadata": {},
   "outputs": [
    {
     "name": "stdout",
     "output_type": "stream",
     "text": [
      "CPU times: user 6.95 s, sys: 6.75 s, total: 13.7 s\n",
      "Wall time: 16.6 s\n"
     ]
    },
    {
     "data": {
      "text/html": [
       "<div>\n",
       "<style scoped>\n",
       "    .dataframe tbody tr th:only-of-type {\n",
       "        vertical-align: middle;\n",
       "    }\n",
       "\n",
       "    .dataframe tbody tr th {\n",
       "        vertical-align: top;\n",
       "    }\n",
       "\n",
       "    .dataframe thead th {\n",
       "        text-align: right;\n",
       "    }\n",
       "</style>\n",
       "<table border=\"1\" class=\"dataframe\">\n",
       "  <thead>\n",
       "    <tr style=\"text-align: right;\">\n",
       "      <th></th>\n",
       "      <th>0</th>\n",
       "      <th>1</th>\n",
       "      <th>2</th>\n",
       "      <th>3</th>\n",
       "      <th>4</th>\n",
       "      <th>5</th>\n",
       "      <th>6</th>\n",
       "      <th>7</th>\n",
       "      <th>8</th>\n",
       "    </tr>\n",
       "  </thead>\n",
       "  <tbody>\n",
       "    <tr>\n",
       "      <th>0</th>\n",
       "      <td>B</td>\n",
       "      <td>1547745009</td>\n",
       "      <td>18361.0</td>\n",
       "      <td>a9cce9560e9ec414fc5f47defd2fec48a9453828</td>\n",
       "      <td>F</td>\n",
       "      <td>(-4198,1951)</td>\n",
       "      <td>noParent</td>\n",
       "      <td>pop=1</td>\n",
       "      <td>chain=1</td>\n",
       "    </tr>\n",
       "    <tr>\n",
       "      <th>1</th>\n",
       "      <td>D</td>\n",
       "      <td>1547745377</td>\n",
       "      <td>18361.0</td>\n",
       "      <td>a9cce9560e9ec414fc5f47defd2fec48a9453828</td>\n",
       "      <td>age=20.12</td>\n",
       "      <td>F</td>\n",
       "      <td>(-4236,1866)</td>\n",
       "      <td>hunger</td>\n",
       "      <td>pop=0</td>\n",
       "    </tr>\n",
       "    <tr>\n",
       "      <th>0</th>\n",
       "      <td>B</td>\n",
       "      <td>1533340847</td>\n",
       "      <td>2206.0</td>\n",
       "      <td>3e5fc11e9399744ba47ee55df3f03e612cad475b</td>\n",
       "      <td>F</td>\n",
       "      <td>(5355,-12870)</td>\n",
       "      <td>noParent</td>\n",
       "      <td>pop=1</td>\n",
       "      <td>chain=1</td>\n",
       "    </tr>\n",
       "    <tr>\n",
       "      <th>1</th>\n",
       "      <td>D</td>\n",
       "      <td>1533343607</td>\n",
       "      <td>2206.0</td>\n",
       "      <td>3e5fc11e9399744ba47ee55df3f03e612cad475b</td>\n",
       "      <td>age=60.00</td>\n",
       "      <td>F</td>\n",
       "      <td>(5494,-12870)</td>\n",
       "      <td>oldAge</td>\n",
       "      <td>pop=0</td>\n",
       "    </tr>\n",
       "    <tr>\n",
       "      <th>2</th>\n",
       "      <td>B</td>\n",
       "      <td>1533343736</td>\n",
       "      <td>2207.0</td>\n",
       "      <td>3e5fc11e9399744ba47ee55df3f03e612cad475b</td>\n",
       "      <td>F</td>\n",
       "      <td>(5487,-12872)</td>\n",
       "      <td>noParent</td>\n",
       "      <td>pop=1</td>\n",
       "      <td>chain=1</td>\n",
       "    </tr>\n",
       "  </tbody>\n",
       "</table>\n",
       "</div>"
      ],
      "text/plain": [
       "   0           1        2                                         3  \\\n",
       "0  B  1547745009  18361.0  a9cce9560e9ec414fc5f47defd2fec48a9453828   \n",
       "1  D  1547745377  18361.0  a9cce9560e9ec414fc5f47defd2fec48a9453828   \n",
       "0  B  1533340847   2206.0  3e5fc11e9399744ba47ee55df3f03e612cad475b   \n",
       "1  D  1533343607   2206.0  3e5fc11e9399744ba47ee55df3f03e612cad475b   \n",
       "2  B  1533343736   2207.0  3e5fc11e9399744ba47ee55df3f03e612cad475b   \n",
       "\n",
       "           4              5              6       7        8  \n",
       "0          F   (-4198,1951)       noParent   pop=1  chain=1  \n",
       "1  age=20.12              F   (-4236,1866)  hunger    pop=0  \n",
       "0          F  (5355,-12870)       noParent   pop=1  chain=1  \n",
       "1  age=60.00              F  (5494,-12870)  oldAge    pop=0  \n",
       "2          F  (5487,-12872)       noParent   pop=1  chain=1  "
      ]
     },
     "execution_count": 44,
     "metadata": {},
     "output_type": "execute_result"
    }
   ],
   "source": [
    "%time raw_data = pd.concat(data_list)\n",
    "raw_data.head()"
   ]
  },
  {
   "cell_type": "code",
   "execution_count": 45,
   "metadata": {},
   "outputs": [
    {
     "name": "stdout",
     "output_type": "stream",
     "text": [
      "Found 13722127 birth/death events\n"
     ]
    }
   ],
   "source": [
    "print('Found %i birth/death events' % raw_data.shape[0])"
   ]
  },
  {
   "cell_type": "markdown",
   "metadata": {},
   "source": [
    "Deaths:"
   ]
  },
  {
   "cell_type": "code",
   "execution_count": 46,
   "metadata": {},
   "outputs": [
    {
     "data": {
      "text/html": [
       "<div>\n",
       "<style scoped>\n",
       "    .dataframe tbody tr th:only-of-type {\n",
       "        vertical-align: middle;\n",
       "    }\n",
       "\n",
       "    .dataframe tbody tr th {\n",
       "        vertical-align: top;\n",
       "    }\n",
       "\n",
       "    .dataframe thead th {\n",
       "        text-align: right;\n",
       "    }\n",
       "</style>\n",
       "<table border=\"1\" class=\"dataframe\">\n",
       "  <thead>\n",
       "    <tr style=\"text-align: right;\">\n",
       "      <th></th>\n",
       "      <th>0</th>\n",
       "      <th>1</th>\n",
       "      <th>2</th>\n",
       "      <th>3</th>\n",
       "      <th>4</th>\n",
       "      <th>5</th>\n",
       "      <th>6</th>\n",
       "      <th>7</th>\n",
       "      <th>8</th>\n",
       "    </tr>\n",
       "  </thead>\n",
       "  <tbody>\n",
       "    <tr>\n",
       "      <th>1</th>\n",
       "      <td>D</td>\n",
       "      <td>1547745377</td>\n",
       "      <td>18361.0</td>\n",
       "      <td>a9cce9560e9ec414fc5f47defd2fec48a9453828</td>\n",
       "      <td>age=20.12</td>\n",
       "      <td>F</td>\n",
       "      <td>(-4236,1866)</td>\n",
       "      <td>hunger</td>\n",
       "      <td>pop=0</td>\n",
       "    </tr>\n",
       "    <tr>\n",
       "      <th>1</th>\n",
       "      <td>D</td>\n",
       "      <td>1533343607</td>\n",
       "      <td>2206.0</td>\n",
       "      <td>3e5fc11e9399744ba47ee55df3f03e612cad475b</td>\n",
       "      <td>age=60.00</td>\n",
       "      <td>F</td>\n",
       "      <td>(5494,-12870)</td>\n",
       "      <td>oldAge</td>\n",
       "      <td>pop=0</td>\n",
       "    </tr>\n",
       "    <tr>\n",
       "      <th>3</th>\n",
       "      <td>D</td>\n",
       "      <td>1533346355</td>\n",
       "      <td>2207.0</td>\n",
       "      <td>3e5fc11e9399744ba47ee55df3f03e612cad475b</td>\n",
       "      <td>age=57.65</td>\n",
       "      <td>F</td>\n",
       "      <td>(5489,-12873)</td>\n",
       "      <td>hunger</td>\n",
       "      <td>pop=0</td>\n",
       "    </tr>\n",
       "    <tr>\n",
       "      <th>5</th>\n",
       "      <td>D</td>\n",
       "      <td>1533349254</td>\n",
       "      <td>2208.0</td>\n",
       "      <td>3e5fc11e9399744ba47ee55df3f03e612cad475b</td>\n",
       "      <td>age=60.00</td>\n",
       "      <td>F</td>\n",
       "      <td>(5237,-12105)</td>\n",
       "      <td>oldAge</td>\n",
       "      <td>pop=0</td>\n",
       "    </tr>\n",
       "    <tr>\n",
       "      <th>8</th>\n",
       "      <td>D</td>\n",
       "      <td>1533392786</td>\n",
       "      <td>2209.0</td>\n",
       "      <td>3e5fc11e9399744ba47ee55df3f03e612cad475b</td>\n",
       "      <td>age=41.30</td>\n",
       "      <td>F</td>\n",
       "      <td>(5243,-12108)</td>\n",
       "      <td>disconnect</td>\n",
       "      <td>pop=1</td>\n",
       "    </tr>\n",
       "  </tbody>\n",
       "</table>\n",
       "</div>"
      ],
      "text/plain": [
       "   0           1        2                                         3  \\\n",
       "1  D  1547745377  18361.0  a9cce9560e9ec414fc5f47defd2fec48a9453828   \n",
       "1  D  1533343607   2206.0  3e5fc11e9399744ba47ee55df3f03e612cad475b   \n",
       "3  D  1533346355   2207.0  3e5fc11e9399744ba47ee55df3f03e612cad475b   \n",
       "5  D  1533349254   2208.0  3e5fc11e9399744ba47ee55df3f03e612cad475b   \n",
       "8  D  1533392786   2209.0  3e5fc11e9399744ba47ee55df3f03e612cad475b   \n",
       "\n",
       "           4  5              6           7      8  \n",
       "1  age=20.12  F   (-4236,1866)      hunger  pop=0  \n",
       "1  age=60.00  F  (5494,-12870)      oldAge  pop=0  \n",
       "3  age=57.65  F  (5489,-12873)      hunger  pop=0  \n",
       "5  age=60.00  F  (5237,-12105)      oldAge  pop=0  \n",
       "8  age=41.30  F  (5243,-12108)  disconnect  pop=1  "
      ]
     },
     "execution_count": 46,
     "metadata": {},
     "output_type": "execute_result"
    }
   ],
   "source": [
    "death_raw = raw_data[raw_data.iloc[:,0] == 'D']\n",
    "death_raw.head()"
   ]
  },
  {
   "cell_type": "markdown",
   "metadata": {},
   "source": [
    "Births:"
   ]
  },
  {
   "cell_type": "code",
   "execution_count": 47,
   "metadata": {},
   "outputs": [
    {
     "data": {
      "text/html": [
       "<div>\n",
       "<style scoped>\n",
       "    .dataframe tbody tr th:only-of-type {\n",
       "        vertical-align: middle;\n",
       "    }\n",
       "\n",
       "    .dataframe tbody tr th {\n",
       "        vertical-align: top;\n",
       "    }\n",
       "\n",
       "    .dataframe thead th {\n",
       "        text-align: right;\n",
       "    }\n",
       "</style>\n",
       "<table border=\"1\" class=\"dataframe\">\n",
       "  <thead>\n",
       "    <tr style=\"text-align: right;\">\n",
       "      <th></th>\n",
       "      <th>0</th>\n",
       "      <th>1</th>\n",
       "      <th>2</th>\n",
       "      <th>3</th>\n",
       "      <th>4</th>\n",
       "      <th>5</th>\n",
       "      <th>6</th>\n",
       "      <th>7</th>\n",
       "      <th>8</th>\n",
       "    </tr>\n",
       "  </thead>\n",
       "  <tbody>\n",
       "    <tr>\n",
       "      <th>0</th>\n",
       "      <td>B</td>\n",
       "      <td>1547745009</td>\n",
       "      <td>18361.0</td>\n",
       "      <td>a9cce9560e9ec414fc5f47defd2fec48a9453828</td>\n",
       "      <td>F</td>\n",
       "      <td>(-4198,1951)</td>\n",
       "      <td>noParent</td>\n",
       "      <td>pop=1</td>\n",
       "      <td>chain=1</td>\n",
       "    </tr>\n",
       "    <tr>\n",
       "      <th>0</th>\n",
       "      <td>B</td>\n",
       "      <td>1533340847</td>\n",
       "      <td>2206.0</td>\n",
       "      <td>3e5fc11e9399744ba47ee55df3f03e612cad475b</td>\n",
       "      <td>F</td>\n",
       "      <td>(5355,-12870)</td>\n",
       "      <td>noParent</td>\n",
       "      <td>pop=1</td>\n",
       "      <td>chain=1</td>\n",
       "    </tr>\n",
       "    <tr>\n",
       "      <th>2</th>\n",
       "      <td>B</td>\n",
       "      <td>1533343736</td>\n",
       "      <td>2207.0</td>\n",
       "      <td>3e5fc11e9399744ba47ee55df3f03e612cad475b</td>\n",
       "      <td>F</td>\n",
       "      <td>(5487,-12872)</td>\n",
       "      <td>noParent</td>\n",
       "      <td>pop=1</td>\n",
       "      <td>chain=1</td>\n",
       "    </tr>\n",
       "    <tr>\n",
       "      <th>4</th>\n",
       "      <td>B</td>\n",
       "      <td>1533346494</td>\n",
       "      <td>2208.0</td>\n",
       "      <td>3e5fc11e9399744ba47ee55df3f03e612cad475b</td>\n",
       "      <td>F</td>\n",
       "      <td>(5163,-11877)</td>\n",
       "      <td>noParent</td>\n",
       "      <td>pop=1</td>\n",
       "      <td>chain=1</td>\n",
       "    </tr>\n",
       "    <tr>\n",
       "      <th>6</th>\n",
       "      <td>B</td>\n",
       "      <td>1533391148</td>\n",
       "      <td>2209.0</td>\n",
       "      <td>3e5fc11e9399744ba47ee55df3f03e612cad475b</td>\n",
       "      <td>F</td>\n",
       "      <td>(5240,-12102)</td>\n",
       "      <td>noParent</td>\n",
       "      <td>pop=1</td>\n",
       "      <td>chain=1</td>\n",
       "    </tr>\n",
       "  </tbody>\n",
       "</table>\n",
       "</div>"
      ],
      "text/plain": [
       "   0           1        2                                         3  4  \\\n",
       "0  B  1547745009  18361.0  a9cce9560e9ec414fc5f47defd2fec48a9453828  F   \n",
       "0  B  1533340847   2206.0  3e5fc11e9399744ba47ee55df3f03e612cad475b  F   \n",
       "2  B  1533343736   2207.0  3e5fc11e9399744ba47ee55df3f03e612cad475b  F   \n",
       "4  B  1533346494   2208.0  3e5fc11e9399744ba47ee55df3f03e612cad475b  F   \n",
       "6  B  1533391148   2209.0  3e5fc11e9399744ba47ee55df3f03e612cad475b  F   \n",
       "\n",
       "               5         6      7        8  \n",
       "0   (-4198,1951)  noParent  pop=1  chain=1  \n",
       "0  (5355,-12870)  noParent  pop=1  chain=1  \n",
       "2  (5487,-12872)  noParent  pop=1  chain=1  \n",
       "4  (5163,-11877)  noParent  pop=1  chain=1  \n",
       "6  (5240,-12102)  noParent  pop=1  chain=1  "
      ]
     },
     "execution_count": 47,
     "metadata": {},
     "output_type": "execute_result"
    }
   ],
   "source": [
    "birth_raw = raw_data[raw_data.iloc[:,0] == 'B']\n",
    "birth_raw.head()"
   ]
  },
  {
   "cell_type": "markdown",
   "metadata": {},
   "source": [
    "Clean up data:"
   ]
  },
  {
   "cell_type": "code",
   "execution_count": 48,
   "metadata": {},
   "outputs": [],
   "source": [
    "shared_header = ['event', 'timestamp', 'playerID', 'hash', 'age', 'sex',\n",
    "                 'location', 'parent', 'cause_of_death', 'pop', 'chain']"
   ]
  },
  {
   "cell_type": "code",
   "execution_count": 60,
   "metadata": {},
   "outputs": [
    {
     "data": {
      "application/vnd.jupyter.widget-view+json": {
       "model_id": "2c57cd0b63cb4b1faa51e2544b9e97fb",
       "version_major": 2,
       "version_minor": 0
      },
      "text/plain": [
       "HBox(children=(IntProgress(value=0, max=6855695), HTML(value='')))"
      ]
     },
     "metadata": {},
     "output_type": "display_data"
    },
    {
     "ename": "KeyboardInterrupt",
     "evalue": "",
     "output_type": "error",
     "traceback": [
      "\u001b[0;31m---------------------------------------------------------------------------\u001b[0m",
      "\u001b[0;31mKeyboardInterrupt\u001b[0m                         Traceback (most recent call last)",
      "\u001b[0;32m<ipython-input-60-99fd66bdb995>\u001b[0m in \u001b[0;36m<module>\u001b[0;34m()\u001b[0m\n\u001b[1;32m     13\u001b[0m \u001b[0;34m\u001b[0m\u001b[0m\n\u001b[1;32m     14\u001b[0m     \u001b[0mdeath_data\u001b[0m\u001b[0;34m.\u001b[0m\u001b[0mat\u001b[0m\u001b[0;34m[\u001b[0m\u001b[0mi\u001b[0m\u001b[0;34m,\u001b[0m \u001b[0;34m'age'\u001b[0m\u001b[0;34m]\u001b[0m \u001b[0;34m=\u001b[0m \u001b[0mage\u001b[0m\u001b[0;34m\u001b[0m\u001b[0;34m\u001b[0m\u001b[0m\n\u001b[0;32m---> 15\u001b[0;31m     \u001b[0mdeath_data\u001b[0m\u001b[0;34m.\u001b[0m\u001b[0mat\u001b[0m\u001b[0;34m[\u001b[0m\u001b[0mi\u001b[0m\u001b[0;34m,\u001b[0m \u001b[0;34m'pop'\u001b[0m\u001b[0;34m]\u001b[0m \u001b[0;34m=\u001b[0m \u001b[0mpop\u001b[0m\u001b[0;34m\u001b[0m\u001b[0;34m\u001b[0m\u001b[0m\n\u001b[0m\u001b[1;32m     16\u001b[0m \u001b[0;34m\u001b[0m\u001b[0m\n\u001b[1;32m     17\u001b[0m \u001b[0mdeath_data\u001b[0m\u001b[0;34m.\u001b[0m\u001b[0mhead\u001b[0m\u001b[0;34m(\u001b[0m\u001b[0;34m)\u001b[0m\u001b[0;34m\u001b[0m\u001b[0;34m\u001b[0m\u001b[0m\n",
      "\u001b[0;32m/anaconda3/envs/py3/lib/python3.6/site-packages/pandas/core/indexing.py\u001b[0m in \u001b[0;36m__setitem__\u001b[0;34m(self, key, value)\u001b[0m\n\u001b[1;32m   2157\u001b[0m         \u001b[0mkey\u001b[0m \u001b[0;34m=\u001b[0m \u001b[0mlist\u001b[0m\u001b[0;34m(\u001b[0m\u001b[0mself\u001b[0m\u001b[0;34m.\u001b[0m\u001b[0m_convert_key\u001b[0m\u001b[0;34m(\u001b[0m\u001b[0mkey\u001b[0m\u001b[0;34m,\u001b[0m \u001b[0mis_setter\u001b[0m\u001b[0;34m=\u001b[0m\u001b[0;32mTrue\u001b[0m\u001b[0;34m)\u001b[0m\u001b[0;34m)\u001b[0m\u001b[0;34m\u001b[0m\u001b[0;34m\u001b[0m\u001b[0m\n\u001b[1;32m   2158\u001b[0m         \u001b[0mkey\u001b[0m\u001b[0;34m.\u001b[0m\u001b[0mappend\u001b[0m\u001b[0;34m(\u001b[0m\u001b[0mvalue\u001b[0m\u001b[0;34m)\u001b[0m\u001b[0;34m\u001b[0m\u001b[0;34m\u001b[0m\u001b[0m\n\u001b[0;32m-> 2159\u001b[0;31m         \u001b[0mself\u001b[0m\u001b[0;34m.\u001b[0m\u001b[0mobj\u001b[0m\u001b[0;34m.\u001b[0m\u001b[0m_set_value\u001b[0m\u001b[0;34m(\u001b[0m\u001b[0;34m*\u001b[0m\u001b[0mkey\u001b[0m\u001b[0;34m,\u001b[0m \u001b[0mtakeable\u001b[0m\u001b[0;34m=\u001b[0m\u001b[0mself\u001b[0m\u001b[0;34m.\u001b[0m\u001b[0m_takeable\u001b[0m\u001b[0;34m)\u001b[0m\u001b[0;34m\u001b[0m\u001b[0;34m\u001b[0m\u001b[0m\n\u001b[0m\u001b[1;32m   2160\u001b[0m \u001b[0;34m\u001b[0m\u001b[0m\n\u001b[1;32m   2161\u001b[0m \u001b[0;34m\u001b[0m\u001b[0m\n",
      "\u001b[0;32m/anaconda3/envs/py3/lib/python3.6/site-packages/pandas/core/frame.py\u001b[0m in \u001b[0;36m_set_value\u001b[0;34m(self, index, col, value, takeable)\u001b[0m\n\u001b[1;32m   2580\u001b[0m             \u001b[0mseries\u001b[0m \u001b[0;34m=\u001b[0m \u001b[0mself\u001b[0m\u001b[0;34m.\u001b[0m\u001b[0m_get_item_cache\u001b[0m\u001b[0;34m(\u001b[0m\u001b[0mcol\u001b[0m\u001b[0;34m)\u001b[0m\u001b[0;34m\u001b[0m\u001b[0;34m\u001b[0m\u001b[0m\n\u001b[1;32m   2581\u001b[0m             \u001b[0mengine\u001b[0m \u001b[0;34m=\u001b[0m \u001b[0mself\u001b[0m\u001b[0;34m.\u001b[0m\u001b[0mindex\u001b[0m\u001b[0;34m.\u001b[0m\u001b[0m_engine\u001b[0m\u001b[0;34m\u001b[0m\u001b[0;34m\u001b[0m\u001b[0m\n\u001b[0;32m-> 2582\u001b[0;31m             \u001b[0mengine\u001b[0m\u001b[0;34m.\u001b[0m\u001b[0mset_value\u001b[0m\u001b[0;34m(\u001b[0m\u001b[0mseries\u001b[0m\u001b[0;34m.\u001b[0m\u001b[0m_values\u001b[0m\u001b[0;34m,\u001b[0m \u001b[0mindex\u001b[0m\u001b[0;34m,\u001b[0m \u001b[0mvalue\u001b[0m\u001b[0;34m)\u001b[0m\u001b[0;34m\u001b[0m\u001b[0;34m\u001b[0m\u001b[0m\n\u001b[0m\u001b[1;32m   2583\u001b[0m             \u001b[0;32mreturn\u001b[0m \u001b[0mself\u001b[0m\u001b[0;34m\u001b[0m\u001b[0;34m\u001b[0m\u001b[0m\n\u001b[1;32m   2584\u001b[0m         \u001b[0;32mexcept\u001b[0m \u001b[0;34m(\u001b[0m\u001b[0mKeyError\u001b[0m\u001b[0;34m,\u001b[0m \u001b[0mTypeError\u001b[0m\u001b[0;34m)\u001b[0m\u001b[0;34m:\u001b[0m\u001b[0;34m\u001b[0m\u001b[0;34m\u001b[0m\u001b[0m\n",
      "\u001b[0;31mKeyboardInterrupt\u001b[0m: "
     ]
    }
   ],
   "source": [
    "death_data = death_raw.copy()\n",
    "# Insert missing columns\n",
    "death_data.insert(7, 'parent', np.nan)\n",
    "death_data.insert(10, 'chain', np.nan)\n",
    "death_data.columns = shared_header\n",
    "\n",
    "for i, row in tqdm_notebook(death_data.iterrows(), total=death_data.shape[0]):\n",
    "    age = str_extract('(?<=age=)\\d+\\.\\d+', row['age'])\n",
    "    age = float(age)\n",
    "    \n",
    "    pop = str_extract('(?<=pop=)[0-9]+', row['pop'])\n",
    "    pop = int(pop)\n",
    "    \n",
    "    death_data.at[i, 'age'] = age\n",
    "    death_data.at[i, 'pop'] = pop\n",
    "\n",
    "death_data.head()"
   ]
  },
  {
   "cell_type": "code",
   "execution_count": null,
   "metadata": {},
   "outputs": [],
   "source": [
    "birth_data = birth_raw.copy()\n",
    "# Insert missing columns\n",
    "birth_data.insert(5, 'age', np.nan)\n",
    "birth_data.insert(8, 'cause_of_death', np.nan)\n",
    "birth_data.columns = shared_header\n",
    "\n",
    "for i, row in tqdm_notebook(birth_data.iterrows(), total=birth_data.shape[0]):\n",
    "    pop = str_extract('(?<=pop=)[0-9]+', row['pop'])\n",
    "    pop = int(pop)\n",
    "    \n",
    "    chain = str_extract('(?<=chain=)[0-9]+', row['chain'])\n",
    "    chain = int(chain)\n",
    "    \n",
    "    birth_data.at[i, 'pop'] = pop\n",
    "    birth_data.at[i, 'chain'] = chain\n",
    "\n",
    "birth_data.head()"
   ]
  },
  {
   "cell_type": "markdown",
   "metadata": {},
   "source": [
    "### Deaths"
   ]
  },
  {
   "cell_type": "markdown",
   "metadata": {},
   "source": [
    "Age of death:"
   ]
  },
  {
   "cell_type": "code",
   "execution_count": null,
   "metadata": {},
   "outputs": [],
   "source": [
    "print('Plotting %i deaths' % len(death_data))\n",
    "sns.distplot(death_data['age'], bins=5)"
   ]
  },
  {
   "cell_type": "code",
   "execution_count": null,
   "metadata": {},
   "outputs": [],
   "source": [
    "?sns.distplot"
   ]
  },
  {
   "cell_type": "markdown",
   "metadata": {},
   "source": [
    "Causes of death:"
   ]
  },
  {
   "cell_type": "code",
   "execution_count": null,
   "metadata": {},
   "outputs": [],
   "source": []
  }
 ],
 "metadata": {
  "kernelspec": {
   "display_name": "Python 3",
   "language": "python",
   "name": "python3"
  },
  "language_info": {
   "codemirror_mode": {
    "name": "ipython",
    "version": 3
   },
   "file_extension": ".py",
   "mimetype": "text/x-python",
   "name": "python",
   "nbconvert_exporter": "python",
   "pygments_lexer": "ipython3",
   "version": "3.6.8"
  }
 },
 "nbformat": 4,
 "nbformat_minor": 2
}
