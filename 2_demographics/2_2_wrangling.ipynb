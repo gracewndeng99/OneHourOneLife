{
 "cells": [
  {
   "cell_type": "markdown",
   "metadata": {},
   "source": [
    "# Wrangling lifelog data (July 2019–January 2020)\n",
    "Natalia Vélez, December 2019–January 2020\n",
    "\n",
    "In this notebook:\n",
    "\n",
    "* Load, clean up lifelog data from 2019-07-30 to 2020-01-08\n",
    "* Split data by version\n",
    "* Prepare inputs for subsequent analyses (census, family trees, migration patterns)\n",
    "\n",
    "The period studied spans the start of the MapChange logs to the most recent data download (versions 251–302)"
   ]
  },
  {
   "cell_type": "code",
   "execution_count": 1,
   "metadata": {
    "ExecuteTime": {
     "end_time": "2020-01-09T18:48:17.696616Z",
     "start_time": "2020-01-09T18:48:15.254192Z"
    }
   },
   "outputs": [],
   "source": [
    "%matplotlib inline\n",
    "\n",
    "import os, re, glob, random\n",
    "import pandas as pd\n",
    "import numpy as np\n",
    "import networkx as nx\n",
    "import matplotlib.pyplot as plt\n",
    "import seaborn as sns\n",
    "from os.path import join as opj\n",
    "from tqdm import tqdm_notebook\n",
    "from ast import literal_eval as make_tuple\n",
    "\n",
    "sns.set_context('paper')"
   ]
  },
  {
   "cell_type": "markdown",
   "metadata": {},
   "source": [
    "Helper functions:"
   ]
  },
  {
   "cell_type": "code",
   "execution_count": 2,
   "metadata": {
    "ExecuteTime": {
     "end_time": "2020-01-09T18:48:20.210554Z",
     "start_time": "2020-01-09T18:48:20.205214Z"
    }
   },
   "outputs": [],
   "source": [
    "gsearch = lambda *args: glob.glob(opj(*args))\n",
    "str_extract = lambda pattern, s: re.search(pattern, s).group(0)"
   ]
  },
  {
   "cell_type": "markdown",
   "metadata": {},
   "source": [
    "## Parse version history"
   ]
  },
  {
   "cell_type": "markdown",
   "metadata": {},
   "source": [
    "In future analyses, we'll want to split data by release; different releases of the game will have different items, mechanics, etc. To do that, we'll parse the version history here and get the start and end dates for each release."
   ]
  },
  {
   "cell_type": "code",
   "execution_count": 3,
   "metadata": {},
   "outputs": [
    {
     "data": {
      "text/html": [
       "<div>\n",
       "<style scoped>\n",
       "    .dataframe tbody tr th:only-of-type {\n",
       "        vertical-align: middle;\n",
       "    }\n",
       "\n",
       "    .dataframe tbody tr th {\n",
       "        vertical-align: top;\n",
       "    }\n",
       "\n",
       "    .dataframe thead th {\n",
       "        text-align: right;\n",
       "    }\n",
       "</style>\n",
       "<table border=\"1\" class=\"dataframe\">\n",
       "  <thead>\n",
       "    <tr style=\"text-align: right;\">\n",
       "      <th></th>\n",
       "      <th>version</th>\n",
       "      <th>release_date</th>\n",
       "    </tr>\n",
       "  </thead>\n",
       "  <tbody>\n",
       "    <tr>\n",
       "      <th>0</th>\n",
       "      <td>302</td>\n",
       "      <td>20200109</td>\n",
       "    </tr>\n",
       "    <tr>\n",
       "      <th>1</th>\n",
       "      <td>300</td>\n",
       "      <td>20200103</td>\n",
       "    </tr>\n",
       "    <tr>\n",
       "      <th>2</th>\n",
       "      <td>298</td>\n",
       "      <td>20191220</td>\n",
       "    </tr>\n",
       "    <tr>\n",
       "      <th>3</th>\n",
       "      <td>297</td>\n",
       "      <td>20191218</td>\n",
       "    </tr>\n",
       "    <tr>\n",
       "      <th>4</th>\n",
       "      <td>296</td>\n",
       "      <td>20191214</td>\n",
       "    </tr>\n",
       "  </tbody>\n",
       "</table>\n",
       "</div>"
      ],
      "text/plain": [
       "   version  release_date\n",
       "0      302      20200109\n",
       "1      300      20200103\n",
       "2      298      20191220\n",
       "3      297      20191218\n",
       "4      296      20191214"
      ]
     },
     "execution_count": 3,
     "metadata": {},
     "output_type": "execute_result"
    }
   ],
   "source": [
    "ver_file = '../1_download/outputs/version_history_full.tsv'\n",
    "\n",
    "# Load file\n",
    "ver = pd.read_csv(ver_file, sep='\\t')\n",
    "\n",
    "# Clean up release date\n",
    "ver.release_date = [s.replace('-', '') for s in ver.release_date]\n",
    "ver.release_date = pd.to_numeric(ver.release_date)\n",
    "\n",
    "ver.head()"
   ]
  },
  {
   "cell_type": "markdown",
   "metadata": {},
   "source": [
    "`find_version`: Helper function. Takes a filename as input, finds the corresponding release."
   ]
  },
  {
   "cell_type": "code",
   "execution_count": 12,
   "metadata": {},
   "outputs": [],
   "source": [
    "def find_version(file):\n",
    "    file_date = date_extract(file)\n",
    "\n",
    "    tmp_ver = ver.copy()\n",
    "    tmp_ver['lag'] = file_date - tmp_ver['release_date']\n",
    "    tmp_ver = tmp_ver[tmp_ver['lag'] >= 0]\n",
    "\n",
    "    file_ver = tmp_ver.loc[tmp_ver['lag'].idxmax()].version\n",
    "    \n",
    "    return file_ver"
   ]
  },
  {
   "cell_type": "markdown",
   "metadata": {},
   "source": [
    "## Clean up data"
   ]
  },
  {
   "cell_type": "markdown",
   "metadata": {},
   "source": [
    "We first need to filter files by date, to pick out files within the range we're interested in. (This might be a roundabout way of doing it—suggestions welcome.)\n",
    "\n",
    "`date_extract`: Helper function. Takes a basename as a string (e.g., '2019_03March_23_Saturday.txt') and returns an integer representation of the date (e.g., 20190323)."
   ]
  },
  {
   "cell_type": "code",
   "execution_count": 5,
   "metadata": {},
   "outputs": [],
   "source": [
    "def date_extract(s):\n",
    "    \n",
    "    date_regex = '([0-9]{4})_([0-9]{2})[A-Za-z]+_([0-9]{2})'\n",
    "    date_search = re.findall(date_regex, s)\n",
    "    date_str = ''.join(date_search[0])\n",
    "    date_int = int(date_str)\n",
    "    \n",
    "    return date_int"
   ]
  },
  {
   "cell_type": "markdown",
   "metadata": {},
   "source": [
    "List all files:"
   ]
  },
  {
   "cell_type": "code",
   "execution_count": 6,
   "metadata": {},
   "outputs": [
    {
     "name": "stdout",
     "output_type": "stream",
     "text": [
      "../data/publicLifeLogData/lifeLog_bigserver1.onehouronelife.com/2019_01January_25_Friday.txt\n",
      "../data/publicLifeLogData/lifeLog_bigserver1.onehouronelife.com/2019_01January_26_Saturday.txt\n",
      "../data/publicLifeLogData/lifeLog_bigserver1.onehouronelife.com/2019_01January_27_Sunday.txt\n",
      "../data/publicLifeLogData/lifeLog_bigserver1.onehouronelife.com/2019_01January_28_Monday.txt\n",
      "../data/publicLifeLogData/lifeLog_bigserver1.onehouronelife.com/2019_01January_29_Tuesday.txt\n",
      "../data/publicLifeLogData/lifeLog_bigserver1.onehouronelife.com/2019_01January_30_Wednesday.txt\n",
      "../data/publicLifeLogData/lifeLog_bigserver2.onehouronelife.com/2019_01January_29_Tuesday.txt\n",
      "../data/publicLifeLogData/lifeLog_bigserver2.onehouronelife.com/2019_01January_30_Wednesday.txt\n",
      "../data/publicLifeLogData/lifeLog_bigserver2.onehouronelife.com/2019_01January_31_Thursday.txt\n",
      "../data/publicLifeLogData/lifeLog_bigserver2.onehouronelife.com/2019_02February_01_Friday.txt\n"
     ]
    }
   ],
   "source": [
    "data_dir = '../data'\n",
    "all_files = gsearch(data_dir, 'publicLifeLogData', 'lifeLog*', '2*y.txt')\n",
    "all_files.sort()\n",
    "print(*all_files[:10], sep='\\n')"
   ]
  },
  {
   "cell_type": "markdown",
   "metadata": {},
   "source": [
    "Extract dates:"
   ]
  },
  {
   "cell_type": "code",
   "execution_count": 7,
   "metadata": {},
   "outputs": [
    {
     "name": "stdout",
     "output_type": "stream",
     "text": [
      "20190125\n",
      "20190126\n",
      "20190127\n",
      "20190128\n",
      "20190129\n",
      "20190130\n",
      "20190129\n",
      "20190130\n",
      "20190131\n",
      "20190201\n"
     ]
    }
   ],
   "source": [
    "all_dates = [date_extract(f) for f in all_files]\n",
    "print(*all_dates[:10], sep='\\n')"
   ]
  },
  {
   "cell_type": "markdown",
   "metadata": {},
   "source": [
    "Filter files within range:"
   ]
  },
  {
   "cell_type": "code",
   "execution_count": 8,
   "metadata": {},
   "outputs": [
    {
     "data": {
      "text/html": [
       "<div>\n",
       "<style scoped>\n",
       "    .dataframe tbody tr th:only-of-type {\n",
       "        vertical-align: middle;\n",
       "    }\n",
       "\n",
       "    .dataframe tbody tr th {\n",
       "        vertical-align: top;\n",
       "    }\n",
       "\n",
       "    .dataframe thead th {\n",
       "        text-align: right;\n",
       "    }\n",
       "</style>\n",
       "<table border=\"1\" class=\"dataframe\">\n",
       "  <thead>\n",
       "    <tr style=\"text-align: right;\">\n",
       "      <th></th>\n",
       "      <th>file</th>\n",
       "      <th>date</th>\n",
       "      <th>include</th>\n",
       "    </tr>\n",
       "  </thead>\n",
       "  <tbody>\n",
       "    <tr>\n",
       "      <th>188</th>\n",
       "      <td>../data/publicLifeLogData/lifeLog_bigserver2.o...</td>\n",
       "      <td>20190730</td>\n",
       "      <td>True</td>\n",
       "    </tr>\n",
       "    <tr>\n",
       "      <th>189</th>\n",
       "      <td>../data/publicLifeLogData/lifeLog_bigserver2.o...</td>\n",
       "      <td>20190731</td>\n",
       "      <td>True</td>\n",
       "    </tr>\n",
       "    <tr>\n",
       "      <th>190</th>\n",
       "      <td>../data/publicLifeLogData/lifeLog_bigserver2.o...</td>\n",
       "      <td>20190801</td>\n",
       "      <td>True</td>\n",
       "    </tr>\n",
       "    <tr>\n",
       "      <th>191</th>\n",
       "      <td>../data/publicLifeLogData/lifeLog_bigserver2.o...</td>\n",
       "      <td>20190802</td>\n",
       "      <td>True</td>\n",
       "    </tr>\n",
       "    <tr>\n",
       "      <th>192</th>\n",
       "      <td>../data/publicLifeLogData/lifeLog_bigserver2.o...</td>\n",
       "      <td>20190803</td>\n",
       "      <td>True</td>\n",
       "    </tr>\n",
       "  </tbody>\n",
       "</table>\n",
       "</div>"
      ],
      "text/plain": [
       "                                                  file      date  include\n",
       "188  ../data/publicLifeLogData/lifeLog_bigserver2.o...  20190730     True\n",
       "189  ../data/publicLifeLogData/lifeLog_bigserver2.o...  20190731     True\n",
       "190  ../data/publicLifeLogData/lifeLog_bigserver2.o...  20190801     True\n",
       "191  ../data/publicLifeLogData/lifeLog_bigserver2.o...  20190802     True\n",
       "192  ../data/publicLifeLogData/lifeLog_bigserver2.o...  20190803     True"
      ]
     },
     "execution_count": 8,
     "metadata": {},
     "output_type": "execute_result"
    }
   ],
   "source": [
    "start = 20190730\n",
    "end = 20200108\n",
    "\n",
    "# Check if date is within range\n",
    "between_dates = lambda d: (d >= start) & (d <= end)\n",
    "\n",
    "file_df = pd.DataFrame({'file': all_files,\n",
    "                        'date': all_dates})\n",
    "file_df['include'] = file_df.date.apply(between_dates)\n",
    "file_df = file_df[file_df.include == True]\n",
    "\n",
    "file_df.head()"
   ]
  },
  {
   "cell_type": "code",
   "execution_count": 9,
   "metadata": {},
   "outputs": [
    {
     "name": "stdout",
     "output_type": "stream",
     "text": [
      "2341 files found\n",
      "2019_07July_30_Tuesday.txt\n",
      "2019_07July_31_Wednesday.txt\n",
      "2019_08August_01_Thursday.txt\n",
      "2019_08August_02_Friday.txt\n",
      "2019_08August_03_Saturday.txt\n",
      "2019_08August_04_Sunday.txt\n",
      "2019_08August_05_Monday.txt\n",
      "2019_08August_06_Tuesday.txt\n",
      "2019_08August_07_Wednesday.txt\n",
      "2019_08August_08_Thursday.txt\n",
      "2019_08August_09_Friday.txt\n",
      "2019_08August_10_Saturday.txt\n",
      "2019_08August_11_Sunday.txt\n",
      "2019_08August_12_Monday.txt\n",
      "2019_08August_13_Tuesday.txt\n",
      "2019_08August_14_Wednesday.txt\n",
      "2019_08August_15_Thursday.txt\n",
      "2019_08August_16_Friday.txt\n",
      "2019_08August_17_Saturday.txt\n",
      "2019_08August_18_Sunday.txt\n"
     ]
    }
   ],
   "source": [
    "data_files = file_df['file'].values\n",
    "print('%i files found' % len(data_files))\n",
    "print(*[os.path.basename(f) for f in data_files[:20]], sep='\\n')"
   ]
  },
  {
   "cell_type": "markdown",
   "metadata": {},
   "source": [
    "Load all files:"
   ]
  },
  {
   "cell_type": "code",
   "execution_count": 14,
   "metadata": {
    "ExecuteTime": {
     "end_time": "2020-01-09T18:48:28.460998Z",
     "start_time": "2020-01-09T18:48:27.569166Z"
    }
   },
   "outputs": [
    {
     "data": {
      "application/vnd.jupyter.widget-view+json": {
       "model_id": "762652a49d994c14bb38429e183d61ee",
       "version_major": 2,
       "version_minor": 0
      },
      "text/plain": [
       "HBox(children=(IntProgress(value=0, max=2341), HTML(value='')))"
      ]
     },
     "metadata": {},
     "output_type": "display_data"
    },
    {
     "name": "stdout",
     "output_type": "stream",
     "text": [
      "\n"
     ]
    }
   ],
   "source": [
    "data_list = []\n",
    "empty_files = []\n",
    "for f in tqdm_notebook(data_files):\n",
    "    try:\n",
    "        tmp_server = str_extract('(?<=lifeLog_)[a-zA-Z0-9]+', f)\n",
    "        tmp_ver = find_version(f)\n",
    "        \n",
    "        tmp_d = pd.read_csv(f, sep =' ', header=None)\n",
    "        tmp_d.insert(0, 'server', tmp_server)\n",
    "        tmp_d.insert(0, 'release', tmp_ver)\n",
    "        data_list.append(tmp_d)\n",
    "    except:\n",
    "        empty_files.append(f)"
   ]
  },
  {
   "cell_type": "code",
   "execution_count": 15,
   "metadata": {},
   "outputs": [
    {
     "data": {
      "text/html": [
       "<div>\n",
       "<style scoped>\n",
       "    .dataframe tbody tr th:only-of-type {\n",
       "        vertical-align: middle;\n",
       "    }\n",
       "\n",
       "    .dataframe tbody tr th {\n",
       "        vertical-align: top;\n",
       "    }\n",
       "\n",
       "    .dataframe thead th {\n",
       "        text-align: right;\n",
       "    }\n",
       "</style>\n",
       "<table border=\"1\" class=\"dataframe\">\n",
       "  <thead>\n",
       "    <tr style=\"text-align: right;\">\n",
       "      <th></th>\n",
       "      <th>release</th>\n",
       "      <th>server</th>\n",
       "      <th>0</th>\n",
       "      <th>1</th>\n",
       "      <th>2</th>\n",
       "      <th>3</th>\n",
       "      <th>4</th>\n",
       "      <th>5</th>\n",
       "      <th>6</th>\n",
       "      <th>7</th>\n",
       "      <th>8</th>\n",
       "    </tr>\n",
       "  </thead>\n",
       "  <tbody>\n",
       "    <tr>\n",
       "      <th>0</th>\n",
       "      <td>27</td>\n",
       "      <td>bigserver2</td>\n",
       "      <td>D</td>\n",
       "      <td>1564444828</td>\n",
       "      <td>1842380</td>\n",
       "      <td>583a6de73718f5dd0ddf388f4e68dc060b15e6df</td>\n",
       "      <td>age=1.81</td>\n",
       "      <td>F</td>\n",
       "      <td>(48,94)</td>\n",
       "      <td>hunger</td>\n",
       "      <td>pop=82</td>\n",
       "    </tr>\n",
       "    <tr>\n",
       "      <th>1</th>\n",
       "      <td>27</td>\n",
       "      <td>bigserver2</td>\n",
       "      <td>D</td>\n",
       "      <td>1564444830</td>\n",
       "      <td>1842301</td>\n",
       "      <td>520ddb069aa77dcb202dd0310a8852e8fddc58dd</td>\n",
       "      <td>age=8.00</td>\n",
       "      <td>M</td>\n",
       "      <td>(40,350)</td>\n",
       "      <td>hunger</td>\n",
       "      <td>pop=82</td>\n",
       "    </tr>\n",
       "    <tr>\n",
       "      <th>2</th>\n",
       "      <td>27</td>\n",
       "      <td>bigserver2</td>\n",
       "      <td>B</td>\n",
       "      <td>1564444832</td>\n",
       "      <td>1842398</td>\n",
       "      <td>583a6de73718f5dd0ddf388f4e68dc060b15e6df</td>\n",
       "      <td>F</td>\n",
       "      <td>(-325,209)</td>\n",
       "      <td>parent=1842145</td>\n",
       "      <td>pop=84</td>\n",
       "      <td>chain=3</td>\n",
       "    </tr>\n",
       "    <tr>\n",
       "      <th>3</th>\n",
       "      <td>27</td>\n",
       "      <td>bigserver2</td>\n",
       "      <td>B</td>\n",
       "      <td>1564444836</td>\n",
       "      <td>1842399</td>\n",
       "      <td>520ddb069aa77dcb202dd0310a8852e8fddc58dd</td>\n",
       "      <td>M</td>\n",
       "      <td>(67,-266)</td>\n",
       "      <td>parent=1842397</td>\n",
       "      <td>pop=83</td>\n",
       "      <td>chain=2</td>\n",
       "    </tr>\n",
       "    <tr>\n",
       "      <th>4</th>\n",
       "      <td>27</td>\n",
       "      <td>bigserver2</td>\n",
       "      <td>D</td>\n",
       "      <td>1564444859</td>\n",
       "      <td>1842311</td>\n",
       "      <td>dfd85ac03c4dd577352484b023d19d521b592696</td>\n",
       "      <td>age=7.76</td>\n",
       "      <td>M</td>\n",
       "      <td>(-200,-123)</td>\n",
       "      <td>hunger</td>\n",
       "      <td>pop=82</td>\n",
       "    </tr>\n",
       "  </tbody>\n",
       "</table>\n",
       "</div>"
      ],
      "text/plain": [
       "   release      server  0           1        2  \\\n",
       "0       27  bigserver2  D  1564444828  1842380   \n",
       "1       27  bigserver2  D  1564444830  1842301   \n",
       "2       27  bigserver2  B  1564444832  1842398   \n",
       "3       27  bigserver2  B  1564444836  1842399   \n",
       "4       27  bigserver2  D  1564444859  1842311   \n",
       "\n",
       "                                          3         4           5  \\\n",
       "0  583a6de73718f5dd0ddf388f4e68dc060b15e6df  age=1.81           F   \n",
       "1  520ddb069aa77dcb202dd0310a8852e8fddc58dd  age=8.00           M   \n",
       "2  583a6de73718f5dd0ddf388f4e68dc060b15e6df         F  (-325,209)   \n",
       "3  520ddb069aa77dcb202dd0310a8852e8fddc58dd         M   (67,-266)   \n",
       "4  dfd85ac03c4dd577352484b023d19d521b592696  age=7.76           M   \n",
       "\n",
       "                6       7        8  \n",
       "0         (48,94)  hunger   pop=82  \n",
       "1        (40,350)  hunger   pop=82  \n",
       "2  parent=1842145  pop=84  chain=3  \n",
       "3  parent=1842397  pop=83  chain=2  \n",
       "4     (-200,-123)  hunger   pop=82  "
      ]
     },
     "execution_count": 15,
     "metadata": {},
     "output_type": "execute_result"
    }
   ],
   "source": [
    "raw_data = pd.concat(data_list)\n",
    "raw_data.head()"
   ]
  },
  {
   "cell_type": "markdown",
   "metadata": {},
   "source": [
    "Deaths:"
   ]
  },
  {
   "cell_type": "code",
   "execution_count": 18,
   "metadata": {},
   "outputs": [
    {
     "data": {
      "text/html": [
       "<div>\n",
       "<style scoped>\n",
       "    .dataframe tbody tr th:only-of-type {\n",
       "        vertical-align: middle;\n",
       "    }\n",
       "\n",
       "    .dataframe tbody tr th {\n",
       "        vertical-align: top;\n",
       "    }\n",
       "\n",
       "    .dataframe thead th {\n",
       "        text-align: right;\n",
       "    }\n",
       "</style>\n",
       "<table border=\"1\" class=\"dataframe\">\n",
       "  <thead>\n",
       "    <tr style=\"text-align: right;\">\n",
       "      <th></th>\n",
       "      <th>release</th>\n",
       "      <th>server</th>\n",
       "      <th>0</th>\n",
       "      <th>1</th>\n",
       "      <th>2</th>\n",
       "      <th>3</th>\n",
       "      <th>4</th>\n",
       "      <th>5</th>\n",
       "      <th>6</th>\n",
       "      <th>7</th>\n",
       "      <th>8</th>\n",
       "    </tr>\n",
       "  </thead>\n",
       "  <tbody>\n",
       "    <tr>\n",
       "      <th>0</th>\n",
       "      <td>27</td>\n",
       "      <td>bigserver2</td>\n",
       "      <td>D</td>\n",
       "      <td>1564444828</td>\n",
       "      <td>1842380</td>\n",
       "      <td>583a6de73718f5dd0ddf388f4e68dc060b15e6df</td>\n",
       "      <td>age=1.81</td>\n",
       "      <td>F</td>\n",
       "      <td>(48,94)</td>\n",
       "      <td>hunger</td>\n",
       "      <td>pop=82</td>\n",
       "    </tr>\n",
       "    <tr>\n",
       "      <th>1</th>\n",
       "      <td>27</td>\n",
       "      <td>bigserver2</td>\n",
       "      <td>D</td>\n",
       "      <td>1564444830</td>\n",
       "      <td>1842301</td>\n",
       "      <td>520ddb069aa77dcb202dd0310a8852e8fddc58dd</td>\n",
       "      <td>age=8.00</td>\n",
       "      <td>M</td>\n",
       "      <td>(40,350)</td>\n",
       "      <td>hunger</td>\n",
       "      <td>pop=82</td>\n",
       "    </tr>\n",
       "    <tr>\n",
       "      <th>2</th>\n",
       "      <td>27</td>\n",
       "      <td>bigserver2</td>\n",
       "      <td>D</td>\n",
       "      <td>1564444859</td>\n",
       "      <td>1842311</td>\n",
       "      <td>dfd85ac03c4dd577352484b023d19d521b592696</td>\n",
       "      <td>age=7.76</td>\n",
       "      <td>M</td>\n",
       "      <td>(-200,-123)</td>\n",
       "      <td>hunger</td>\n",
       "      <td>pop=82</td>\n",
       "    </tr>\n",
       "    <tr>\n",
       "      <th>3</th>\n",
       "      <td>27</td>\n",
       "      <td>bigserver2</td>\n",
       "      <td>D</td>\n",
       "      <td>1564444861</td>\n",
       "      <td>1842145</td>\n",
       "      <td>f766576701306189b31a049054c0840b39f84c51</td>\n",
       "      <td>age=18.89</td>\n",
       "      <td>F</td>\n",
       "      <td>(-322,242)</td>\n",
       "      <td>hunger</td>\n",
       "      <td>pop=82</td>\n",
       "    </tr>\n",
       "    <tr>\n",
       "      <th>4</th>\n",
       "      <td>27</td>\n",
       "      <td>bigserver2</td>\n",
       "      <td>D</td>\n",
       "      <td>1564444863</td>\n",
       "      <td>1842359</td>\n",
       "      <td>9381dc0dab74b62eee67d3dc275f5c61ea51bcd0</td>\n",
       "      <td>age=4.23</td>\n",
       "      <td>M</td>\n",
       "      <td>(-308,258)</td>\n",
       "      <td>hunger</td>\n",
       "      <td>pop=82</td>\n",
       "    </tr>\n",
       "  </tbody>\n",
       "</table>\n",
       "</div>"
      ],
      "text/plain": [
       "   release      server  0           1        2  \\\n",
       "0       27  bigserver2  D  1564444828  1842380   \n",
       "1       27  bigserver2  D  1564444830  1842301   \n",
       "2       27  bigserver2  D  1564444859  1842311   \n",
       "3       27  bigserver2  D  1564444861  1842145   \n",
       "4       27  bigserver2  D  1564444863  1842359   \n",
       "\n",
       "                                          3          4  5            6  \\\n",
       "0  583a6de73718f5dd0ddf388f4e68dc060b15e6df   age=1.81  F      (48,94)   \n",
       "1  520ddb069aa77dcb202dd0310a8852e8fddc58dd   age=8.00  M     (40,350)   \n",
       "2  dfd85ac03c4dd577352484b023d19d521b592696   age=7.76  M  (-200,-123)   \n",
       "3  f766576701306189b31a049054c0840b39f84c51  age=18.89  F   (-322,242)   \n",
       "4  9381dc0dab74b62eee67d3dc275f5c61ea51bcd0   age=4.23  M   (-308,258)   \n",
       "\n",
       "        7       8  \n",
       "0  hunger  pop=82  \n",
       "1  hunger  pop=82  \n",
       "2  hunger  pop=82  \n",
       "3  hunger  pop=82  \n",
       "4  hunger  pop=82  "
      ]
     },
     "execution_count": 18,
     "metadata": {},
     "output_type": "execute_result"
    }
   ],
   "source": [
    "death_raw = raw_data[raw_data.iloc[:,2] == 'D'].copy().reset_index(drop=True)\n",
    "death_raw.head()"
   ]
  },
  {
   "cell_type": "markdown",
   "metadata": {},
   "source": [
    "Births:"
   ]
  },
  {
   "cell_type": "code",
   "execution_count": 19,
   "metadata": {},
   "outputs": [
    {
     "data": {
      "text/html": [
       "<div>\n",
       "<style scoped>\n",
       "    .dataframe tbody tr th:only-of-type {\n",
       "        vertical-align: middle;\n",
       "    }\n",
       "\n",
       "    .dataframe tbody tr th {\n",
       "        vertical-align: top;\n",
       "    }\n",
       "\n",
       "    .dataframe thead th {\n",
       "        text-align: right;\n",
       "    }\n",
       "</style>\n",
       "<table border=\"1\" class=\"dataframe\">\n",
       "  <thead>\n",
       "    <tr style=\"text-align: right;\">\n",
       "      <th></th>\n",
       "      <th>release</th>\n",
       "      <th>server</th>\n",
       "      <th>0</th>\n",
       "      <th>1</th>\n",
       "      <th>2</th>\n",
       "      <th>3</th>\n",
       "      <th>4</th>\n",
       "      <th>5</th>\n",
       "      <th>6</th>\n",
       "      <th>7</th>\n",
       "      <th>8</th>\n",
       "    </tr>\n",
       "  </thead>\n",
       "  <tbody>\n",
       "    <tr>\n",
       "      <th>0</th>\n",
       "      <td>27</td>\n",
       "      <td>bigserver2</td>\n",
       "      <td>B</td>\n",
       "      <td>1564444832</td>\n",
       "      <td>1842398</td>\n",
       "      <td>583a6de73718f5dd0ddf388f4e68dc060b15e6df</td>\n",
       "      <td>F</td>\n",
       "      <td>(-325,209)</td>\n",
       "      <td>parent=1842145</td>\n",
       "      <td>pop=84</td>\n",
       "      <td>chain=3</td>\n",
       "    </tr>\n",
       "    <tr>\n",
       "      <th>1</th>\n",
       "      <td>27</td>\n",
       "      <td>bigserver2</td>\n",
       "      <td>B</td>\n",
       "      <td>1564444836</td>\n",
       "      <td>1842399</td>\n",
       "      <td>520ddb069aa77dcb202dd0310a8852e8fddc58dd</td>\n",
       "      <td>M</td>\n",
       "      <td>(67,-266)</td>\n",
       "      <td>parent=1842397</td>\n",
       "      <td>pop=83</td>\n",
       "      <td>chain=2</td>\n",
       "    </tr>\n",
       "    <tr>\n",
       "      <th>2</th>\n",
       "      <td>27</td>\n",
       "      <td>bigserver2</td>\n",
       "      <td>B</td>\n",
       "      <td>1564444863</td>\n",
       "      <td>1842400</td>\n",
       "      <td>dfd85ac03c4dd577352484b023d19d521b592696</td>\n",
       "      <td>M</td>\n",
       "      <td>(16,-57)</td>\n",
       "      <td>parent=1842304</td>\n",
       "      <td>pop=84</td>\n",
       "      <td>chain=2</td>\n",
       "    </tr>\n",
       "    <tr>\n",
       "      <th>3</th>\n",
       "      <td>27</td>\n",
       "      <td>bigserver2</td>\n",
       "      <td>B</td>\n",
       "      <td>1564444864</td>\n",
       "      <td>1842401</td>\n",
       "      <td>fd6e14532b361175d5203c50a22d20fe951c89f0</td>\n",
       "      <td>M</td>\n",
       "      <td>(146,49)</td>\n",
       "      <td>parent=1842336</td>\n",
       "      <td>pop=84</td>\n",
       "      <td>chain=2</td>\n",
       "    </tr>\n",
       "    <tr>\n",
       "      <th>4</th>\n",
       "      <td>27</td>\n",
       "      <td>bigserver2</td>\n",
       "      <td>B</td>\n",
       "      <td>1564444866</td>\n",
       "      <td>1842402</td>\n",
       "      <td>f766576701306189b31a049054c0840b39f84c51</td>\n",
       "      <td>F</td>\n",
       "      <td>(68,64)</td>\n",
       "      <td>parent=1842334</td>\n",
       "      <td>pop=84</td>\n",
       "      <td>chain=2</td>\n",
       "    </tr>\n",
       "  </tbody>\n",
       "</table>\n",
       "</div>"
      ],
      "text/plain": [
       "   release      server  0           1        2  \\\n",
       "0       27  bigserver2  B  1564444832  1842398   \n",
       "1       27  bigserver2  B  1564444836  1842399   \n",
       "2       27  bigserver2  B  1564444863  1842400   \n",
       "3       27  bigserver2  B  1564444864  1842401   \n",
       "4       27  bigserver2  B  1564444866  1842402   \n",
       "\n",
       "                                          3  4           5               6  \\\n",
       "0  583a6de73718f5dd0ddf388f4e68dc060b15e6df  F  (-325,209)  parent=1842145   \n",
       "1  520ddb069aa77dcb202dd0310a8852e8fddc58dd  M   (67,-266)  parent=1842397   \n",
       "2  dfd85ac03c4dd577352484b023d19d521b592696  M    (16,-57)  parent=1842304   \n",
       "3  fd6e14532b361175d5203c50a22d20fe951c89f0  M    (146,49)  parent=1842336   \n",
       "4  f766576701306189b31a049054c0840b39f84c51  F     (68,64)  parent=1842334   \n",
       "\n",
       "        7        8  \n",
       "0  pop=84  chain=3  \n",
       "1  pop=83  chain=2  \n",
       "2  pop=84  chain=2  \n",
       "3  pop=84  chain=2  \n",
       "4  pop=84  chain=2  "
      ]
     },
     "execution_count": 19,
     "metadata": {},
     "output_type": "execute_result"
    }
   ],
   "source": [
    "birth_raw = raw_data[raw_data.iloc[:,2] == 'B'].copy().reset_index(drop=True)\n",
    "birth_raw.head()"
   ]
  },
  {
   "cell_type": "markdown",
   "metadata": {},
   "source": [
    "### Clean up data"
   ]
  },
  {
   "cell_type": "code",
   "execution_count": 21,
   "metadata": {},
   "outputs": [],
   "source": [
    "shared_header = ['release', 'server', 'event', 'timestamp', 'playerID', 'hash', 'uniqueID', 'age', 'sex',\n",
    "                 'location', 'parent', 'cause_of_death', 'killer', 'pop', 'chain']"
   ]
  },
  {
   "cell_type": "markdown",
   "metadata": {},
   "source": [
    "#### Deaths"
   ]
  },
  {
   "cell_type": "code",
   "execution_count": 27,
   "metadata": {},
   "outputs": [
    {
     "data": {
      "application/vnd.jupyter.widget-view+json": {
       "model_id": "9315bfd3dd7b42d29a496d9df67e2451",
       "version_major": 2,
       "version_minor": 0
      },
      "text/plain": [
       "HBox(children=(IntProgress(value=0, max=703717), HTML(value='')))"
      ]
     },
     "metadata": {},
     "output_type": "display_data"
    },
    {
     "name": "stdout",
     "output_type": "stream",
     "text": [
      "\n"
     ]
    }
   ],
   "source": [
    "death_data = death_raw.copy()\n",
    "# Insert missing columns\n",
    "death_data.insert(6, 'uniqueID', np.nan)\n",
    "death_data.insert(10, 'parent', np.nan)\n",
    "death_data.insert(13, 'chain', np.nan)\n",
    "death_data.insert(12, 'killer', np.nan)\n",
    "death_data.columns = shared_header\n",
    "\n",
    "for i, row in tqdm_notebook(death_data.iterrows(), total=death_data.shape[0]):\n",
    "    age = str_extract('(?<=age=)\\d+\\.\\d+', row['age'])\n",
    "    age = float(age)\n",
    "    \n",
    "    pop = str_extract('(?<=pop=)[0-9]+', row['pop'])\n",
    "    pop = int(pop)\n",
    "    \n",
    "    death_data.at[i, 'age'] = age\n",
    "    death_data.at[i, 'pop'] = pop"
   ]
  },
  {
   "cell_type": "markdown",
   "metadata": {},
   "source": [
    "Clean up IDs,  locations, causes of death"
   ]
  },
  {
   "cell_type": "code",
   "execution_count": 28,
   "metadata": {},
   "outputs": [
    {
     "name": "stdout",
     "output_type": "stream",
     "text": [
      "['hunger' 'disconnect' 'murdered' 'oldAge']\n",
      "[nan '1841694' '1841943' '1841921' '1842167' '1841831' '1842476' '1842228'\n",
      " '1842430' '1842343']\n"
     ]
    },
    {
     "data": {
      "text/html": [
       "<div>\n",
       "<style scoped>\n",
       "    .dataframe tbody tr th:only-of-type {\n",
       "        vertical-align: middle;\n",
       "    }\n",
       "\n",
       "    .dataframe tbody tr th {\n",
       "        vertical-align: top;\n",
       "    }\n",
       "\n",
       "    .dataframe thead th {\n",
       "        text-align: right;\n",
       "    }\n",
       "</style>\n",
       "<table border=\"1\" class=\"dataframe\">\n",
       "  <thead>\n",
       "    <tr style=\"text-align: right;\">\n",
       "      <th></th>\n",
       "      <th>release</th>\n",
       "      <th>server</th>\n",
       "      <th>event</th>\n",
       "      <th>timestamp</th>\n",
       "      <th>playerID</th>\n",
       "      <th>hash</th>\n",
       "      <th>uniqueID</th>\n",
       "      <th>age</th>\n",
       "      <th>sex</th>\n",
       "      <th>location</th>\n",
       "      <th>parent</th>\n",
       "      <th>cause_of_death</th>\n",
       "      <th>killer</th>\n",
       "      <th>pop</th>\n",
       "      <th>chain</th>\n",
       "    </tr>\n",
       "  </thead>\n",
       "  <tbody>\n",
       "    <tr>\n",
       "      <th>0</th>\n",
       "      <td>27</td>\n",
       "      <td>bigserver2</td>\n",
       "      <td>D</td>\n",
       "      <td>1564444828</td>\n",
       "      <td>1842380</td>\n",
       "      <td>583a6de73718f5dd0ddf388f4e68dc060b15e6df</td>\n",
       "      <td>1842380_bigserver2_27</td>\n",
       "      <td>1.81</td>\n",
       "      <td>F</td>\n",
       "      <td>(48, 94)</td>\n",
       "      <td>NaN</td>\n",
       "      <td>hunger</td>\n",
       "      <td>NaN</td>\n",
       "      <td>82</td>\n",
       "      <td>NaN</td>\n",
       "    </tr>\n",
       "    <tr>\n",
       "      <th>1</th>\n",
       "      <td>27</td>\n",
       "      <td>bigserver2</td>\n",
       "      <td>D</td>\n",
       "      <td>1564444830</td>\n",
       "      <td>1842301</td>\n",
       "      <td>520ddb069aa77dcb202dd0310a8852e8fddc58dd</td>\n",
       "      <td>1842301_bigserver2_27</td>\n",
       "      <td>8</td>\n",
       "      <td>M</td>\n",
       "      <td>(40, 350)</td>\n",
       "      <td>NaN</td>\n",
       "      <td>hunger</td>\n",
       "      <td>NaN</td>\n",
       "      <td>82</td>\n",
       "      <td>NaN</td>\n",
       "    </tr>\n",
       "    <tr>\n",
       "      <th>2</th>\n",
       "      <td>27</td>\n",
       "      <td>bigserver2</td>\n",
       "      <td>D</td>\n",
       "      <td>1564444859</td>\n",
       "      <td>1842311</td>\n",
       "      <td>dfd85ac03c4dd577352484b023d19d521b592696</td>\n",
       "      <td>1842311_bigserver2_27</td>\n",
       "      <td>7.76</td>\n",
       "      <td>M</td>\n",
       "      <td>(-200, -123)</td>\n",
       "      <td>NaN</td>\n",
       "      <td>hunger</td>\n",
       "      <td>NaN</td>\n",
       "      <td>82</td>\n",
       "      <td>NaN</td>\n",
       "    </tr>\n",
       "    <tr>\n",
       "      <th>3</th>\n",
       "      <td>27</td>\n",
       "      <td>bigserver2</td>\n",
       "      <td>D</td>\n",
       "      <td>1564444861</td>\n",
       "      <td>1842145</td>\n",
       "      <td>f766576701306189b31a049054c0840b39f84c51</td>\n",
       "      <td>1842145_bigserver2_27</td>\n",
       "      <td>18.89</td>\n",
       "      <td>F</td>\n",
       "      <td>(-322, 242)</td>\n",
       "      <td>NaN</td>\n",
       "      <td>hunger</td>\n",
       "      <td>NaN</td>\n",
       "      <td>82</td>\n",
       "      <td>NaN</td>\n",
       "    </tr>\n",
       "    <tr>\n",
       "      <th>4</th>\n",
       "      <td>27</td>\n",
       "      <td>bigserver2</td>\n",
       "      <td>D</td>\n",
       "      <td>1564444863</td>\n",
       "      <td>1842359</td>\n",
       "      <td>9381dc0dab74b62eee67d3dc275f5c61ea51bcd0</td>\n",
       "      <td>1842359_bigserver2_27</td>\n",
       "      <td>4.23</td>\n",
       "      <td>M</td>\n",
       "      <td>(-308, 258)</td>\n",
       "      <td>NaN</td>\n",
       "      <td>hunger</td>\n",
       "      <td>NaN</td>\n",
       "      <td>82</td>\n",
       "      <td>NaN</td>\n",
       "    </tr>\n",
       "  </tbody>\n",
       "</table>\n",
       "</div>"
      ],
      "text/plain": [
       "   release      server event   timestamp  playerID  \\\n",
       "0       27  bigserver2     D  1564444828   1842380   \n",
       "1       27  bigserver2     D  1564444830   1842301   \n",
       "2       27  bigserver2     D  1564444859   1842311   \n",
       "3       27  bigserver2     D  1564444861   1842145   \n",
       "4       27  bigserver2     D  1564444863   1842359   \n",
       "\n",
       "                                       hash               uniqueID    age sex  \\\n",
       "0  583a6de73718f5dd0ddf388f4e68dc060b15e6df  1842380_bigserver2_27   1.81   F   \n",
       "1  520ddb069aa77dcb202dd0310a8852e8fddc58dd  1842301_bigserver2_27      8   M   \n",
       "2  dfd85ac03c4dd577352484b023d19d521b592696  1842311_bigserver2_27   7.76   M   \n",
       "3  f766576701306189b31a049054c0840b39f84c51  1842145_bigserver2_27  18.89   F   \n",
       "4  9381dc0dab74b62eee67d3dc275f5c61ea51bcd0  1842359_bigserver2_27   4.23   M   \n",
       "\n",
       "       location  parent cause_of_death killer pop  chain  \n",
       "0      (48, 94)     NaN         hunger    NaN  82    NaN  \n",
       "1     (40, 350)     NaN         hunger    NaN  82    NaN  \n",
       "2  (-200, -123)     NaN         hunger    NaN  82    NaN  \n",
       "3   (-322, 242)     NaN         hunger    NaN  82    NaN  \n",
       "4   (-308, 258)     NaN         hunger    NaN  82    NaN  "
      ]
     },
     "execution_count": 28,
     "metadata": {},
     "output_type": "execute_result"
    }
   ],
   "source": [
    "# Unique ID: Player ID + hash\n",
    "death_data['uniqueID'] = death_data.apply(lambda row: '%s_%s_%s' % (row['playerID'], row['server'], row['release']),\n",
    "                                          axis=1)\n",
    "\n",
    "# Locations\n",
    "death_data['location'] = death_data['location'].apply(make_tuple)\n",
    "\n",
    "# Check for murdered players\n",
    "murderers = death_data['cause_of_death'].str.extract(r'(?<=killer_)([0-9]+)', expand=False)\n",
    "death_data['cause_of_death'] = death_data['cause_of_death'].str.replace(\"killer_[0-9]+\", \"murdered\")\n",
    "death_data['killer'] = murderers\n",
    "\n",
    "print(death_data['cause_of_death'].unique())\n",
    "print(death_data['killer'].unique()[:10])\n",
    "\n",
    "death_data.head()"
   ]
  },
  {
   "cell_type": "markdown",
   "metadata": {},
   "source": [
    "#### Births"
   ]
  },
  {
   "cell_type": "code",
   "execution_count": 29,
   "metadata": {},
   "outputs": [
    {
     "data": {
      "application/vnd.jupyter.widget-view+json": {
       "model_id": "67a9f2d3d09e4c4bb782bce7d18c8f0e",
       "version_major": 2,
       "version_minor": 0
      },
      "text/plain": [
       "HBox(children=(IntProgress(value=0, max=704781), HTML(value='')))"
      ]
     },
     "metadata": {},
     "output_type": "display_data"
    },
    {
     "name": "stdout",
     "output_type": "stream",
     "text": [
      "\n"
     ]
    },
    {
     "data": {
      "text/html": [
       "<div>\n",
       "<style scoped>\n",
       "    .dataframe tbody tr th:only-of-type {\n",
       "        vertical-align: middle;\n",
       "    }\n",
       "\n",
       "    .dataframe tbody tr th {\n",
       "        vertical-align: top;\n",
       "    }\n",
       "\n",
       "    .dataframe thead th {\n",
       "        text-align: right;\n",
       "    }\n",
       "</style>\n",
       "<table border=\"1\" class=\"dataframe\">\n",
       "  <thead>\n",
       "    <tr style=\"text-align: right;\">\n",
       "      <th></th>\n",
       "      <th>release</th>\n",
       "      <th>server</th>\n",
       "      <th>event</th>\n",
       "      <th>timestamp</th>\n",
       "      <th>playerID</th>\n",
       "      <th>hash</th>\n",
       "      <th>uniqueID</th>\n",
       "      <th>age</th>\n",
       "      <th>sex</th>\n",
       "      <th>location</th>\n",
       "      <th>parent</th>\n",
       "      <th>cause_of_death</th>\n",
       "      <th>killer</th>\n",
       "      <th>pop</th>\n",
       "      <th>chain</th>\n",
       "    </tr>\n",
       "  </thead>\n",
       "  <tbody>\n",
       "    <tr>\n",
       "      <th>0</th>\n",
       "      <td>27</td>\n",
       "      <td>bigserver2</td>\n",
       "      <td>B</td>\n",
       "      <td>1564444832</td>\n",
       "      <td>1842398</td>\n",
       "      <td>583a6de73718f5dd0ddf388f4e68dc060b15e6df</td>\n",
       "      <td>NaN</td>\n",
       "      <td>NaN</td>\n",
       "      <td>F</td>\n",
       "      <td>(-325,209)</td>\n",
       "      <td>parent=1842145</td>\n",
       "      <td>NaN</td>\n",
       "      <td>NaN</td>\n",
       "      <td>84</td>\n",
       "      <td>3</td>\n",
       "    </tr>\n",
       "    <tr>\n",
       "      <th>1</th>\n",
       "      <td>27</td>\n",
       "      <td>bigserver2</td>\n",
       "      <td>B</td>\n",
       "      <td>1564444836</td>\n",
       "      <td>1842399</td>\n",
       "      <td>520ddb069aa77dcb202dd0310a8852e8fddc58dd</td>\n",
       "      <td>NaN</td>\n",
       "      <td>NaN</td>\n",
       "      <td>M</td>\n",
       "      <td>(67,-266)</td>\n",
       "      <td>parent=1842397</td>\n",
       "      <td>NaN</td>\n",
       "      <td>NaN</td>\n",
       "      <td>83</td>\n",
       "      <td>2</td>\n",
       "    </tr>\n",
       "    <tr>\n",
       "      <th>2</th>\n",
       "      <td>27</td>\n",
       "      <td>bigserver2</td>\n",
       "      <td>B</td>\n",
       "      <td>1564444863</td>\n",
       "      <td>1842400</td>\n",
       "      <td>dfd85ac03c4dd577352484b023d19d521b592696</td>\n",
       "      <td>NaN</td>\n",
       "      <td>NaN</td>\n",
       "      <td>M</td>\n",
       "      <td>(16,-57)</td>\n",
       "      <td>parent=1842304</td>\n",
       "      <td>NaN</td>\n",
       "      <td>NaN</td>\n",
       "      <td>84</td>\n",
       "      <td>2</td>\n",
       "    </tr>\n",
       "    <tr>\n",
       "      <th>3</th>\n",
       "      <td>27</td>\n",
       "      <td>bigserver2</td>\n",
       "      <td>B</td>\n",
       "      <td>1564444864</td>\n",
       "      <td>1842401</td>\n",
       "      <td>fd6e14532b361175d5203c50a22d20fe951c89f0</td>\n",
       "      <td>NaN</td>\n",
       "      <td>NaN</td>\n",
       "      <td>M</td>\n",
       "      <td>(146,49)</td>\n",
       "      <td>parent=1842336</td>\n",
       "      <td>NaN</td>\n",
       "      <td>NaN</td>\n",
       "      <td>84</td>\n",
       "      <td>2</td>\n",
       "    </tr>\n",
       "    <tr>\n",
       "      <th>4</th>\n",
       "      <td>27</td>\n",
       "      <td>bigserver2</td>\n",
       "      <td>B</td>\n",
       "      <td>1564444866</td>\n",
       "      <td>1842402</td>\n",
       "      <td>f766576701306189b31a049054c0840b39f84c51</td>\n",
       "      <td>NaN</td>\n",
       "      <td>NaN</td>\n",
       "      <td>F</td>\n",
       "      <td>(68,64)</td>\n",
       "      <td>parent=1842334</td>\n",
       "      <td>NaN</td>\n",
       "      <td>NaN</td>\n",
       "      <td>84</td>\n",
       "      <td>2</td>\n",
       "    </tr>\n",
       "  </tbody>\n",
       "</table>\n",
       "</div>"
      ],
      "text/plain": [
       "   release      server event   timestamp  playerID  \\\n",
       "0       27  bigserver2     B  1564444832   1842398   \n",
       "1       27  bigserver2     B  1564444836   1842399   \n",
       "2       27  bigserver2     B  1564444863   1842400   \n",
       "3       27  bigserver2     B  1564444864   1842401   \n",
       "4       27  bigserver2     B  1564444866   1842402   \n",
       "\n",
       "                                       hash  uniqueID  age sex    location  \\\n",
       "0  583a6de73718f5dd0ddf388f4e68dc060b15e6df       NaN  NaN   F  (-325,209)   \n",
       "1  520ddb069aa77dcb202dd0310a8852e8fddc58dd       NaN  NaN   M   (67,-266)   \n",
       "2  dfd85ac03c4dd577352484b023d19d521b592696       NaN  NaN   M    (16,-57)   \n",
       "3  fd6e14532b361175d5203c50a22d20fe951c89f0       NaN  NaN   M    (146,49)   \n",
       "4  f766576701306189b31a049054c0840b39f84c51       NaN  NaN   F     (68,64)   \n",
       "\n",
       "           parent  cause_of_death  killer pop chain  \n",
       "0  parent=1842145             NaN     NaN  84     3  \n",
       "1  parent=1842397             NaN     NaN  83     2  \n",
       "2  parent=1842304             NaN     NaN  84     2  \n",
       "3  parent=1842336             NaN     NaN  84     2  \n",
       "4  parent=1842334             NaN     NaN  84     2  "
      ]
     },
     "execution_count": 29,
     "metadata": {},
     "output_type": "execute_result"
    }
   ],
   "source": [
    "birth_data = birth_raw.copy()\n",
    "# Insert missing columns\n",
    "birth_data.insert(6, 'uniqueID', np.nan)\n",
    "birth_data.insert(7, 'age', np.nan)\n",
    "birth_data.insert(11, 'cause_of_death', np.nan)\n",
    "birth_data.insert(12, 'killer', np.nan)\n",
    "birth_data.columns = shared_header\n",
    "\n",
    "for i, row in tqdm_notebook(birth_data.iterrows(), total=birth_data.shape[0]):    \n",
    "    pop = str_extract('(?<=pop=)[0-9]+', row['pop'])\n",
    "    pop = int(pop)\n",
    "    \n",
    "    chain = str_extract('(?<=chain=)[0-9]+', row['chain'])\n",
    "    chain = int(chain)\n",
    "    \n",
    "    birth_data.at[i, 'pop'] = pop\n",
    "    birth_data.at[i, 'chain'] = chain\n",
    "\n",
    "birth_data.head()"
   ]
  },
  {
   "cell_type": "markdown",
   "metadata": {},
   "source": [
    "Clean up IDs, locations, parents:"
   ]
  },
  {
   "cell_type": "code",
   "execution_count": 30,
   "metadata": {},
   "outputs": [
    {
     "data": {
      "text/html": [
       "<div>\n",
       "<style scoped>\n",
       "    .dataframe tbody tr th:only-of-type {\n",
       "        vertical-align: middle;\n",
       "    }\n",
       "\n",
       "    .dataframe tbody tr th {\n",
       "        vertical-align: top;\n",
       "    }\n",
       "\n",
       "    .dataframe thead th {\n",
       "        text-align: right;\n",
       "    }\n",
       "</style>\n",
       "<table border=\"1\" class=\"dataframe\">\n",
       "  <thead>\n",
       "    <tr style=\"text-align: right;\">\n",
       "      <th></th>\n",
       "      <th>release</th>\n",
       "      <th>server</th>\n",
       "      <th>event</th>\n",
       "      <th>timestamp</th>\n",
       "      <th>playerID</th>\n",
       "      <th>hash</th>\n",
       "      <th>uniqueID</th>\n",
       "      <th>age</th>\n",
       "      <th>sex</th>\n",
       "      <th>location</th>\n",
       "      <th>parent</th>\n",
       "      <th>cause_of_death</th>\n",
       "      <th>killer</th>\n",
       "      <th>pop</th>\n",
       "      <th>chain</th>\n",
       "    </tr>\n",
       "  </thead>\n",
       "  <tbody>\n",
       "    <tr>\n",
       "      <th>0</th>\n",
       "      <td>27</td>\n",
       "      <td>bigserver2</td>\n",
       "      <td>B</td>\n",
       "      <td>1564444832</td>\n",
       "      <td>1842398</td>\n",
       "      <td>583a6de73718f5dd0ddf388f4e68dc060b15e6df</td>\n",
       "      <td>1842398_bigserver2_27</td>\n",
       "      <td>NaN</td>\n",
       "      <td>F</td>\n",
       "      <td>(-325, 209)</td>\n",
       "      <td>1842145</td>\n",
       "      <td>NaN</td>\n",
       "      <td>NaN</td>\n",
       "      <td>84</td>\n",
       "      <td>3</td>\n",
       "    </tr>\n",
       "    <tr>\n",
       "      <th>1</th>\n",
       "      <td>27</td>\n",
       "      <td>bigserver2</td>\n",
       "      <td>B</td>\n",
       "      <td>1564444836</td>\n",
       "      <td>1842399</td>\n",
       "      <td>520ddb069aa77dcb202dd0310a8852e8fddc58dd</td>\n",
       "      <td>1842399_bigserver2_27</td>\n",
       "      <td>NaN</td>\n",
       "      <td>M</td>\n",
       "      <td>(67, -266)</td>\n",
       "      <td>1842397</td>\n",
       "      <td>NaN</td>\n",
       "      <td>NaN</td>\n",
       "      <td>83</td>\n",
       "      <td>2</td>\n",
       "    </tr>\n",
       "    <tr>\n",
       "      <th>2</th>\n",
       "      <td>27</td>\n",
       "      <td>bigserver2</td>\n",
       "      <td>B</td>\n",
       "      <td>1564444863</td>\n",
       "      <td>1842400</td>\n",
       "      <td>dfd85ac03c4dd577352484b023d19d521b592696</td>\n",
       "      <td>1842400_bigserver2_27</td>\n",
       "      <td>NaN</td>\n",
       "      <td>M</td>\n",
       "      <td>(16, -57)</td>\n",
       "      <td>1842304</td>\n",
       "      <td>NaN</td>\n",
       "      <td>NaN</td>\n",
       "      <td>84</td>\n",
       "      <td>2</td>\n",
       "    </tr>\n",
       "    <tr>\n",
       "      <th>3</th>\n",
       "      <td>27</td>\n",
       "      <td>bigserver2</td>\n",
       "      <td>B</td>\n",
       "      <td>1564444864</td>\n",
       "      <td>1842401</td>\n",
       "      <td>fd6e14532b361175d5203c50a22d20fe951c89f0</td>\n",
       "      <td>1842401_bigserver2_27</td>\n",
       "      <td>NaN</td>\n",
       "      <td>M</td>\n",
       "      <td>(146, 49)</td>\n",
       "      <td>1842336</td>\n",
       "      <td>NaN</td>\n",
       "      <td>NaN</td>\n",
       "      <td>84</td>\n",
       "      <td>2</td>\n",
       "    </tr>\n",
       "    <tr>\n",
       "      <th>4</th>\n",
       "      <td>27</td>\n",
       "      <td>bigserver2</td>\n",
       "      <td>B</td>\n",
       "      <td>1564444866</td>\n",
       "      <td>1842402</td>\n",
       "      <td>f766576701306189b31a049054c0840b39f84c51</td>\n",
       "      <td>1842402_bigserver2_27</td>\n",
       "      <td>NaN</td>\n",
       "      <td>F</td>\n",
       "      <td>(68, 64)</td>\n",
       "      <td>1842334</td>\n",
       "      <td>NaN</td>\n",
       "      <td>NaN</td>\n",
       "      <td>84</td>\n",
       "      <td>2</td>\n",
       "    </tr>\n",
       "  </tbody>\n",
       "</table>\n",
       "</div>"
      ],
      "text/plain": [
       "   release      server event   timestamp  playerID  \\\n",
       "0       27  bigserver2     B  1564444832   1842398   \n",
       "1       27  bigserver2     B  1564444836   1842399   \n",
       "2       27  bigserver2     B  1564444863   1842400   \n",
       "3       27  bigserver2     B  1564444864   1842401   \n",
       "4       27  bigserver2     B  1564444866   1842402   \n",
       "\n",
       "                                       hash               uniqueID  age sex  \\\n",
       "0  583a6de73718f5dd0ddf388f4e68dc060b15e6df  1842398_bigserver2_27  NaN   F   \n",
       "1  520ddb069aa77dcb202dd0310a8852e8fddc58dd  1842399_bigserver2_27  NaN   M   \n",
       "2  dfd85ac03c4dd577352484b023d19d521b592696  1842400_bigserver2_27  NaN   M   \n",
       "3  fd6e14532b361175d5203c50a22d20fe951c89f0  1842401_bigserver2_27  NaN   M   \n",
       "4  f766576701306189b31a049054c0840b39f84c51  1842402_bigserver2_27  NaN   F   \n",
       "\n",
       "      location   parent  cause_of_death  killer pop chain  \n",
       "0  (-325, 209)  1842145             NaN     NaN  84     3  \n",
       "1   (67, -266)  1842397             NaN     NaN  83     2  \n",
       "2    (16, -57)  1842304             NaN     NaN  84     2  \n",
       "3    (146, 49)  1842336             NaN     NaN  84     2  \n",
       "4     (68, 64)  1842334             NaN     NaN  84     2  "
      ]
     },
     "execution_count": 30,
     "metadata": {},
     "output_type": "execute_result"
    }
   ],
   "source": [
    "birth_data['uniqueID'] = birth_data.apply(lambda row: '%s_%s_%s' % (row['playerID'], row['server'], row['release']), \n",
    "                                          axis=1)\n",
    "birth_data['location'] = birth_data['location'].apply(make_tuple)\n",
    "birth_data['parent'] = birth_data['parent'].str.extract(r'(?<=parent=)([0-9]+)')\n",
    "\n",
    "birth_data.head()"
   ]
  },
  {
   "cell_type": "markdown",
   "metadata": {},
   "source": [
    "#### Save outputs"
   ]
  },
  {
   "cell_type": "code",
   "execution_count": 31,
   "metadata": {},
   "outputs": [
    {
     "data": {
      "text/html": [
       "<div>\n",
       "<style scoped>\n",
       "    .dataframe tbody tr th:only-of-type {\n",
       "        vertical-align: middle;\n",
       "    }\n",
       "\n",
       "    .dataframe tbody tr th {\n",
       "        vertical-align: top;\n",
       "    }\n",
       "\n",
       "    .dataframe thead th {\n",
       "        text-align: right;\n",
       "    }\n",
       "</style>\n",
       "<table border=\"1\" class=\"dataframe\">\n",
       "  <thead>\n",
       "    <tr style=\"text-align: right;\">\n",
       "      <th></th>\n",
       "      <th>release</th>\n",
       "      <th>server</th>\n",
       "      <th>event</th>\n",
       "      <th>timestamp</th>\n",
       "      <th>playerID</th>\n",
       "      <th>hash</th>\n",
       "      <th>uniqueID</th>\n",
       "      <th>age</th>\n",
       "      <th>sex</th>\n",
       "      <th>location</th>\n",
       "      <th>parent</th>\n",
       "      <th>cause_of_death</th>\n",
       "      <th>killer</th>\n",
       "      <th>pop</th>\n",
       "      <th>chain</th>\n",
       "    </tr>\n",
       "  </thead>\n",
       "  <tbody>\n",
       "    <tr>\n",
       "      <th>0</th>\n",
       "      <td>27</td>\n",
       "      <td>bigserver2</td>\n",
       "      <td>D</td>\n",
       "      <td>1564444828</td>\n",
       "      <td>1842380</td>\n",
       "      <td>583a6de73718f5dd0ddf388f4e68dc060b15e6df</td>\n",
       "      <td>1842380_bigserver2_27</td>\n",
       "      <td>1.81</td>\n",
       "      <td>F</td>\n",
       "      <td>(48, 94)</td>\n",
       "      <td>NaN</td>\n",
       "      <td>hunger</td>\n",
       "      <td>NaN</td>\n",
       "      <td>82</td>\n",
       "      <td>NaN</td>\n",
       "    </tr>\n",
       "    <tr>\n",
       "      <th>1</th>\n",
       "      <td>27</td>\n",
       "      <td>bigserver2</td>\n",
       "      <td>D</td>\n",
       "      <td>1564444830</td>\n",
       "      <td>1842301</td>\n",
       "      <td>520ddb069aa77dcb202dd0310a8852e8fddc58dd</td>\n",
       "      <td>1842301_bigserver2_27</td>\n",
       "      <td>8</td>\n",
       "      <td>M</td>\n",
       "      <td>(40, 350)</td>\n",
       "      <td>NaN</td>\n",
       "      <td>hunger</td>\n",
       "      <td>NaN</td>\n",
       "      <td>82</td>\n",
       "      <td>NaN</td>\n",
       "    </tr>\n",
       "    <tr>\n",
       "      <th>2</th>\n",
       "      <td>27</td>\n",
       "      <td>bigserver2</td>\n",
       "      <td>B</td>\n",
       "      <td>1564444832</td>\n",
       "      <td>1842398</td>\n",
       "      <td>583a6de73718f5dd0ddf388f4e68dc060b15e6df</td>\n",
       "      <td>1842398_bigserver2_27</td>\n",
       "      <td>NaN</td>\n",
       "      <td>F</td>\n",
       "      <td>(-325, 209)</td>\n",
       "      <td>1842145</td>\n",
       "      <td>NaN</td>\n",
       "      <td>NaN</td>\n",
       "      <td>84</td>\n",
       "      <td>3</td>\n",
       "    </tr>\n",
       "    <tr>\n",
       "      <th>3</th>\n",
       "      <td>27</td>\n",
       "      <td>bigserver2</td>\n",
       "      <td>B</td>\n",
       "      <td>1564444836</td>\n",
       "      <td>1842399</td>\n",
       "      <td>520ddb069aa77dcb202dd0310a8852e8fddc58dd</td>\n",
       "      <td>1842399_bigserver2_27</td>\n",
       "      <td>NaN</td>\n",
       "      <td>M</td>\n",
       "      <td>(67, -266)</td>\n",
       "      <td>1842397</td>\n",
       "      <td>NaN</td>\n",
       "      <td>NaN</td>\n",
       "      <td>83</td>\n",
       "      <td>2</td>\n",
       "    </tr>\n",
       "    <tr>\n",
       "      <th>4</th>\n",
       "      <td>27</td>\n",
       "      <td>bigserver2</td>\n",
       "      <td>D</td>\n",
       "      <td>1564444859</td>\n",
       "      <td>1842311</td>\n",
       "      <td>dfd85ac03c4dd577352484b023d19d521b592696</td>\n",
       "      <td>1842311_bigserver2_27</td>\n",
       "      <td>7.76</td>\n",
       "      <td>M</td>\n",
       "      <td>(-200, -123)</td>\n",
       "      <td>NaN</td>\n",
       "      <td>hunger</td>\n",
       "      <td>NaN</td>\n",
       "      <td>82</td>\n",
       "      <td>NaN</td>\n",
       "    </tr>\n",
       "  </tbody>\n",
       "</table>\n",
       "</div>"
      ],
      "text/plain": [
       "   release      server event   timestamp  playerID  \\\n",
       "0       27  bigserver2     D  1564444828   1842380   \n",
       "1       27  bigserver2     D  1564444830   1842301   \n",
       "2       27  bigserver2     B  1564444832   1842398   \n",
       "3       27  bigserver2     B  1564444836   1842399   \n",
       "4       27  bigserver2     D  1564444859   1842311   \n",
       "\n",
       "                                       hash               uniqueID   age sex  \\\n",
       "0  583a6de73718f5dd0ddf388f4e68dc060b15e6df  1842380_bigserver2_27  1.81   F   \n",
       "1  520ddb069aa77dcb202dd0310a8852e8fddc58dd  1842301_bigserver2_27     8   M   \n",
       "2  583a6de73718f5dd0ddf388f4e68dc060b15e6df  1842398_bigserver2_27   NaN   F   \n",
       "3  520ddb069aa77dcb202dd0310a8852e8fddc58dd  1842399_bigserver2_27   NaN   M   \n",
       "4  dfd85ac03c4dd577352484b023d19d521b592696  1842311_bigserver2_27  7.76   M   \n",
       "\n",
       "       location   parent cause_of_death killer pop chain  \n",
       "0      (48, 94)      NaN         hunger    NaN  82   NaN  \n",
       "1     (40, 350)      NaN         hunger    NaN  82   NaN  \n",
       "2   (-325, 209)  1842145            NaN    NaN  84     3  \n",
       "3    (67, -266)  1842397            NaN    NaN  83     2  \n",
       "4  (-200, -123)      NaN         hunger    NaN  82   NaN  "
      ]
     },
     "execution_count": 31,
     "metadata": {},
     "output_type": "execute_result"
    }
   ],
   "source": [
    "lifelog_data = pd.concat([death_data, birth_data])\n",
    "lifelog_data = lifelog_data.sort_values(by=['server', 'timestamp'])\n",
    "lifelog_data = lifelog_data.reset_index(drop=True)\n",
    "\n",
    "lifelog_data.head()"
   ]
  },
  {
   "cell_type": "code",
   "execution_count": 32,
   "metadata": {},
   "outputs": [],
   "source": [
    "out_file = 'outputs/lifelogs_201907_data.csv'\n",
    "lifelog_data.to_csv(out_file, sep='\\t', index=False)"
   ]
  },
  {
   "cell_type": "markdown",
   "metadata": {},
   "source": [
    "## Census: How many players?"
   ]
  },
  {
   "cell_type": "code",
   "execution_count": 33,
   "metadata": {},
   "outputs": [
    {
     "data": {
      "text/html": [
       "<div>\n",
       "<style scoped>\n",
       "    .dataframe tbody tr th:only-of-type {\n",
       "        vertical-align: middle;\n",
       "    }\n",
       "\n",
       "    .dataframe tbody tr th {\n",
       "        vertical-align: top;\n",
       "    }\n",
       "\n",
       "    .dataframe thead th {\n",
       "        text-align: right;\n",
       "    }\n",
       "</style>\n",
       "<table border=\"1\" class=\"dataframe\">\n",
       "  <thead>\n",
       "    <tr style=\"text-align: right;\">\n",
       "      <th></th>\n",
       "      <th>event</th>\n",
       "    </tr>\n",
       "    <tr>\n",
       "      <th>event</th>\n",
       "      <th></th>\n",
       "    </tr>\n",
       "  </thead>\n",
       "  <tbody>\n",
       "    <tr>\n",
       "      <th>B</th>\n",
       "      <td>704781</td>\n",
       "    </tr>\n",
       "    <tr>\n",
       "      <th>D</th>\n",
       "      <td>703717</td>\n",
       "    </tr>\n",
       "  </tbody>\n",
       "</table>\n",
       "</div>"
      ],
      "text/plain": [
       "        event\n",
       "event        \n",
       "B      704781\n",
       "D      703717"
      ]
     },
     "execution_count": 33,
     "metadata": {},
     "output_type": "execute_result"
    }
   ],
   "source": [
    "lifelog_data.groupby('event').agg({'event': 'count'})"
   ]
  },
  {
   "cell_type": "markdown",
   "metadata": {},
   "source": [
    "## Deaths: How and when do people die?"
   ]
  },
  {
   "cell_type": "markdown",
   "metadata": {},
   "source": [
    "Age of death:"
   ]
  },
  {
   "cell_type": "code",
   "execution_count": 34,
   "metadata": {},
   "outputs": [
    {
     "name": "stdout",
     "output_type": "stream",
     "text": [
      "Plotting 703717 deaths\n"
     ]
    },
    {
     "data": {
      "text/plain": [
       "<matplotlib.axes._subplots.AxesSubplot at 0x1a38efcc88>"
      ]
     },
     "execution_count": 34,
     "metadata": {},
     "output_type": "execute_result"
    },
    {
     "data": {
      "image/png": "[encoded data removed]",
      "text/plain": [
       "<Figure size 432x288 with 1 Axes>"
      ]
     },
     "metadata": {},
     "output_type": "display_data"
    }
   ],
   "source": [
    "print('Plotting %i deaths' % len(death_data))\n",
    "sns.distplot(death_data['age'])"
   ]
  },
  {
   "cell_type": "markdown",
   "metadata": {},
   "source": [
    "Frequency of causes of death:"
   ]
  },
  {
   "cell_type": "code",
   "execution_count": 35,
   "metadata": {},
   "outputs": [
    {
     "data": {
      "text/plain": [
       "<matplotlib.axes._subplots.AxesSubplot at 0x1a67205c18>"
      ]
     },
     "execution_count": 35,
     "metadata": {},
     "output_type": "execute_result"
    },
    {
     "data": {
      "image/png": "[encoded data removed]",
      "text/plain": [
       "<Figure size 432x288 with 1 Axes>"
      ]
     },
     "metadata": {},
     "output_type": "display_data"
    }
   ],
   "source": [
    "sns.countplot(x='cause_of_death', data=death_data)"
   ]
  },
  {
   "cell_type": "markdown",
   "metadata": {},
   "source": [
    "Age by cause of death:"
   ]
  },
  {
   "cell_type": "code",
   "execution_count": 36,
   "metadata": {},
   "outputs": [
    {
     "name": "stderr",
     "output_type": "stream",
     "text": [
      "/anaconda3/envs/py3/lib/python3.6/site-packages/statsmodels/nonparametric/kde.py:488: RuntimeWarning: invalid value encountered in true_divide\n",
      "  binned = fast_linbin(X, a, b, gridsize) / (delta * nobs)\n",
      "/anaconda3/envs/py3/lib/python3.6/site-packages/statsmodels/nonparametric/kdetools.py:34: RuntimeWarning: invalid value encountered in double_scalars\n",
      "  FAC1 = 2*(np.pi*bw/RANGE)**2\n"
     ]
    },
    {
     "data": {
      "text/plain": [
       "<seaborn.axisgrid.FacetGrid at 0x1a67205358>"
      ]
     },
     "execution_count": 36,
     "metadata": {},
     "output_type": "execute_result"
    },
    {
     "data": {
      "image/png": "[encoded data removed]",
      "text/plain": [
       "<Figure size 864x216 with 4 Axes>"
      ]
     },
     "metadata": {},
     "output_type": "display_data"
    }
   ],
   "source": [
    "g = sns.FacetGrid(death_data, col='cause_of_death', sharey=False)\n",
    "g.map(sns.distplot, \"age\")"
   ]
  },
  {
   "cell_type": "markdown",
   "metadata": {},
   "source": [
    "## Births: Charting family trees"
   ]
  },
  {
   "cell_type": "markdown",
   "metadata": {},
   "source": [
    "### Prepare data"
   ]
  },
  {
   "cell_type": "code",
   "execution_count": null,
   "metadata": {},
   "outputs": [],
   "source": [
    "graph_data = birth_data[['playerID', 'parent']].copy()\n",
    "graph_data = graph_data.rename(columns={\"playerID\": \"child\"})\n",
    "graph_data['child'] = graph_data['child'].astype(np.float)\n",
    "graph_data['parent'] = np.where(graph_data['parent'] == 'noParent', \n",
    "                                np.nan,\n",
    "                                graph_data['parent'].str.replace('parent=', ''))\n",
    "graph_data['parent'] = graph_data['parent'].astype(np.float)\n",
    "graph_data.head()"
   ]
  },
  {
   "cell_type": "markdown",
   "metadata": {},
   "source": [
    "#### Data quality checks"
   ]
  },
  {
   "cell_type": "markdown",
   "metadata": {},
   "source": [
    "How many nodes?"
   ]
  },
  {
   "cell_type": "code",
   "execution_count": null,
   "metadata": {},
   "outputs": [],
   "source": [
    "graph_data.nunique()"
   ]
  },
  {
   "cell_type": "markdown",
   "metadata": {},
   "source": [
    "Are the entries in \"children\" a subset of \"parent\"?"
   ]
  },
  {
   "cell_type": "code",
   "execution_count": null,
   "metadata": {},
   "outputs": [],
   "source": [
    "children = graph_data['child'].unique()\n",
    "parents = graph_data['parent'].unique()\n",
    "parents = parents[~np.isnan(parents)]"
   ]
  },
  {
   "cell_type": "code",
   "execution_count": null,
   "metadata": {},
   "outputs": [],
   "source": [
    "np.all([p in children for p in parents])"
   ]
  },
  {
   "cell_type": "markdown",
   "metadata": {},
   "source": [
    "Draw graph:"
   ]
  },
  {
   "cell_type": "code",
   "execution_count": null,
   "metadata": {},
   "outputs": [],
   "source": [
    "family_graph = nx.from_pandas_edgelist(graph_data, source='parent', target='child')"
   ]
  },
  {
   "cell_type": "code",
   "execution_count": null,
   "metadata": {},
   "outputs": [],
   "source": [
    "nx.draw_random(family_graph, with_labels=False)"
   ]
  },
  {
   "cell_type": "code",
   "execution_count": null,
   "metadata": {},
   "outputs": [],
   "source": []
  }
 ],
 "metadata": {
  "kernelspec": {
   "display_name": "Python 3",
   "language": "python",
   "name": "python3"
  },
  "language_info": {
   "codemirror_mode": {
    "name": "ipython",
    "version": 3
   },
   "file_extension": ".py",
   "mimetype": "text/x-python",
   "name": "python",
   "nbconvert_exporter": "python",
   "pygments_lexer": "ipython3",
   "version": "3.6.8"
  },
  "toc": {
   "base_numbering": 1,
   "nav_menu": {},
   "number_sections": true,
   "sideBar": true,
   "skip_h1_title": false,
   "title_cell": "Table of Contents",
   "title_sidebar": "Contents",
   "toc_cell": false,
   "toc_position": {},
   "toc_section_display": true,
   "toc_window_display": false
  }
 },
 "nbformat": 4,
 "nbformat_minor": 2
}
