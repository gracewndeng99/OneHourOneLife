{
 "cells": [
  {
   "cell_type": "markdown",
   "metadata": {},
   "source": [
    "# Lineages\n",
    "Natalia Vélez, December 2019–January 2020\n",
    "\n",
    "In this notebook:\n",
    "\n",
    "* Charting lineages\n",
    "* Comparing lineages using various measures of well-being (# descendants, lifespan, causes of death, etc.)\n",
    "* Preparing inputs for subsequent analyses (combined with food, map change logs)\n",
    "\n",
    "This notebook uses data from March 6–9, 2018 (which corresponds to the first release after the start of the logs)"
   ]
  },
  {
   "cell_type": "code",
   "execution_count": null,
   "metadata": {},
   "outputs": [],
   "source": []
  }
 ],
 "metadata": {
  "kernelspec": {
   "display_name": "Python 3",
   "language": "python",
   "name": "python3"
  },
  "language_info": {
   "codemirror_mode": {
    "name": "ipython",
    "version": 3
   },
   "file_extension": ".py",
   "mimetype": "text/x-python",
   "name": "python",
   "nbconvert_exporter": "python",
   "pygments_lexer": "ipython3",
   "version": "3.6.8"
  }
 },
 "nbformat": 4,
 "nbformat_minor": 2
}
